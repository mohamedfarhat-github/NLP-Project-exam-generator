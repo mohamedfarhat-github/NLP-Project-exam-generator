{
  "nbformat": 4,
  "nbformat_minor": 0,
  "metadata": {
    "accelerator": "GPU",
    "colab": {
      "name": "Mohamed_Farhat_Papa_Mademba_Gaye_NLP_colab_notebook.ipynb",
      "provenance": [],
      "collapsed_sections": [],
      "include_colab_link": true
    },
    "kernelspec": {
      "display_name": "Python 3",
      "language": "python",
      "name": "python3"
    },
    "language_info": {
      "codemirror_mode": {
        "name": "ipython",
        "version": 3
      },
      "file_extension": ".py",
      "mimetype": "text/x-python",
      "name": "python",
      "nbconvert_exporter": "python",
      "pygments_lexer": "ipython3",
      "version": "3.8.5"
    }
  },
  "cells": [
    {
      "cell_type": "markdown",
      "metadata": {
        "id": "view-in-github",
        "colab_type": "text"
      },
      "source": [
        "<a href=\"https://colab.research.google.com/github/mohamedfarhat-github/NLP-Project-exam-generator./blob/main/Mohamed_Farhat_Papa_Mademba_Gaye_NLP_colab_notebook.ipynb\" target=\"_parent\"><img src=\"https://colab.research.google.com/assets/colab-badge.svg\" alt=\"Open In Colab\"/></a>"
      ]
    },
    {
      "cell_type": "markdown",
      "metadata": {
        "id": "AnJx8oxIuTJ-"
      },
      "source": [
        "\n",
        "# PROJECT : Natural Language Processing  (NLP)\n",
        "\n",
        "## Question Generation : Exam generator "
      ]
    },
    {
      "cell_type": "markdown",
      "metadata": {
        "id": "p12M_PvXEVSE"
      },
      "source": [
        "Authors: Mohamed Farhat, Papa Mademba Gaye\n",
        "\n",
        "If you have any question or if something is not clear please contact us by email.\n",
        "\n",
        "## Goal:\n",
        "\n",
        "- Recover and create a comprehensive dataset of contexts, questions and answers for reading comprehension purposes\n",
        "- Create a model capable of generating, even partially, questions. \n",
        "- Use the aforementioned model to creat MCQ/fill in/ direct questions;\n",
        "\n",
        "We make use of various sources for our codes. The sources are mentioned when their codes are used and we have also used Matthieu Labeau codes from his labs on NLP.\n",
        "\n",
        "### Very important :\n",
        "The NewsQA Dataset link that we provide here must not be shared with anyone. The distribution of this dataset is prohibited (mainly due to the CNN stories part of the dataset). Interested parties should generate their own datasets using the instructions found in the following link : [Link to NewsQA](https://github.com/Maluuba/newsqa)\n",
        "\n",
        "P.S: If the reader is interested in generating their own datset then they might encounter a problem downloading the QA part from Microsoft database. A workaround this is to use a VPN.\n"
      ]
    },
    {
      "cell_type": "markdown",
      "metadata": {
        "id": "s9CrM7mVEVSI"
      },
      "source": [
        "<div class=\"alert alert-info\">\n",
        "    <h2>Part 0: Getting the necessary packages </h2>\n",
        "</div>"
      ]
    },
    {
      "cell_type": "code",
      "metadata": {
        "id": "kd4Uc812uTKF"
      },
      "source": [
        "import os\n",
        "import numpy as np\n",
        "import math\n",
        "import pandas as pd\n",
        "import json\n",
        "import re\n",
        "from spacy.lang.en import English\n",
        "from tqdm import tqdm\n",
        "import torch\n",
        "from torchtext.legacy import data, vocab\n",
        "import torch.nn.functional as F\n",
        "import torch.nn as nn\n",
        "from torch.nn.utils.rnn import pack_padded_sequence, pad_packed_sequence\n",
        "from torch.nn.utils import clip_grad_norm_\n",
        "import operator\n",
        "from sklearn.neighbors import NearestNeighbors\n",
        "import gdown \n",
        "import requests, zipfile, io\n",
        "import matplotlib.pyplot as plt"
      ],
      "execution_count": null,
      "outputs": []
    },
    {
      "cell_type": "code",
      "metadata": {
        "id": "VB51A9u0EVSK"
      },
      "source": [
        "# if a package doesn't exist use the following command (replace package_name by the actual package name)\n",
        "# !pip install package_name"
      ],
      "execution_count": null,
      "outputs": []
    },
    {
      "cell_type": "markdown",
      "metadata": {
        "id": "yCwqmrdREVSL"
      },
      "source": [
        "<div class=\"alert alert-info\">\n",
        "    <h2> Part 1: Downloading, inspecting and merging the datasets </h2>\n",
        "</div>"
      ]
    },
    {
      "cell_type": "markdown",
      "metadata": {
        "id": "9BwqTmjHEVSM"
      },
      "source": [
        "Let's begin by creating a directory for our data, we advise the reader to put this notebook in a folder if they haven't already."
      ]
    },
    {
      "cell_type": "code",
      "metadata": {
        "id": "-Xu-eqkq3_dc",
        "colab": {
          "base_uri": "https://localhost:8080/"
        },
        "outputId": "3f4a988f-2b12-46d9-eeef-eac7f3f3e34e"
      },
      "source": [
        "from google.colab import drive\n",
        "drive.mount('/content/gdrive')\n",
        "root_path = os.path.join(os.getcwd(), 'gdrive', 'My Drive')"
      ],
      "execution_count": null,
      "outputs": [
        {
          "output_type": "stream",
          "text": [
            "Mounted at /content/gdrive\n"
          ],
          "name": "stdout"
        }
      ]
    },
    {
      "cell_type": "code",
      "metadata": {
        "id": "e2uqUyae2s5B"
      },
      "source": [
        "# Let's create a data directory that will contain all the data for our project\n",
        "if not os.path.exists(os.path.join(root_path, 'Data')): # if the directory isn't created yet\n",
        "    os.mkdir(os.path.join(root_path ,'Data')) # create it\n",
        "data_root = os.path.join(root_path, 'Data') # Our data path"
      ],
      "execution_count": null,
      "outputs": []
    },
    {
      "cell_type": "markdown",
      "metadata": {
        "id": "dIqc7ds5uTKH"
      },
      "source": [
        "<div class=\"alert alert-info\">\n",
        "    <h3> Part 1.1 : The Standford Question Answering Dataset V2.0 </h3>\n",
        "</div>"
      ]
    },
    {
      "cell_type": "markdown",
      "metadata": {
        "id": "0P81FRW4EVSP"
      },
      "source": [
        "Stanford Question Answering Dataset V2.0 (SQuAD) is a reading comprehension dataset, consisting of questions posed by crowdworkers on a set of Wikipedia articles, where the answer to every question is a segment of text, or span, from the corresponding reading passage, or the question might be unanswerable. SQuAD v2.0 combines the 100,000 questions in SQuAD1.1 with over 50,000 unanswerable questions written adversarially by crowdworkers to look similar to answerable ones.  Generally, the dataset is used for question answering tasks but here we adapt it for question generation which happens to be the inverse task. \n",
        " \n",
        "We will now explore the dataset which is provided as 2 json files one for training and one for development. The structure of both is similar and we will explore the training one. The reader is free to explore the other one."
      ]
    },
    {
      "cell_type": "markdown",
      "metadata": {
        "id": "ChpPqrJHuTKH"
      },
      "source": [
        "Let's download the 2 parts, but first let's create a directory for our dataset."
      ]
    },
    {
      "cell_type": "code",
      "metadata": {
        "id": "mCkjDv-d5TEb"
      },
      "source": [
        "if not os.path.exists(os.path.join(data_root, 'SQuADV2.0')): # check if the squad dir isn't created\n",
        "    os.mkdir(os.path.join(data_root, 'SQuADV2.0')) # Create squad dir if so\n",
        "squad_root = os.path.join(data_root, 'SQuADV2.0') # Path to squad dataset"
      ],
      "execution_count": null,
      "outputs": []
    },
    {
      "cell_type": "code",
      "metadata": {
        "colab": {
          "base_uri": "https://localhost:8080/",
          "height": 105
        },
        "id": "MHPUbLtNEVSS",
        "outputId": "1ed6a08a-90bb-48a0-b3c6-eedec803ce2a"
      },
      "source": [
        "url = 'https://drive.google.com/uc?id=1iMxDRC2T5DpO8K3UFcW3UsirBION5-iF' #Link to datset training part\n",
        "output = os.path.join(squad_root, 'train-v2.0.json')\n",
        "gdown.download(url, output, quiet=False) "
      ],
      "execution_count": null,
      "outputs": [
        {
          "output_type": "stream",
          "text": [
            "Downloading...\n",
            "From: https://drive.google.com/uc?id=1iMxDRC2T5DpO8K3UFcW3UsirBION5-iF\n",
            "To: /content/gdrive/My Drive/Data/SQuADV2.0/train-v2.0.json\n",
            "42.1MB [00:01, 40.8MB/s]\n"
          ],
          "name": "stderr"
        },
        {
          "output_type": "execute_result",
          "data": {
            "application/vnd.google.colaboratory.intrinsic+json": {
              "type": "string"
            },
            "text/plain": [
              "'/content/gdrive/My Drive/Data/SQuADV2.0/train-v2.0.json'"
            ]
          },
          "metadata": {
            "tags": []
          },
          "execution_count": 5
        }
      ]
    },
    {
      "cell_type": "code",
      "metadata": {
        "colab": {
          "base_uri": "https://localhost:8080/",
          "height": 105
        },
        "id": "dhNbA8faEVSU",
        "outputId": "8e48cd3d-3d22-4ce4-f96e-e9448c75f529"
      },
      "source": [
        "url = 'https://drive.google.com/uc?id=1wfMYYBrjQjDn3vpUcKGybwKxWxMldg6f' #Link to the dev part \n",
        "output = os.path.join(squad_root, 'dev-v2.0.json')\n",
        "gdown.download(url, output, quiet=False) "
      ],
      "execution_count": null,
      "outputs": [
        {
          "output_type": "stream",
          "text": [
            "Downloading...\n",
            "From: https://drive.google.com/uc?id=1wfMYYBrjQjDn3vpUcKGybwKxWxMldg6f\n",
            "To: /content/gdrive/My Drive/Data/SQuADV2.0/dev-v2.0.json\n",
            "4.37MB [00:00, 20.7MB/s]\n"
          ],
          "name": "stderr"
        },
        {
          "output_type": "execute_result",
          "data": {
            "application/vnd.google.colaboratory.intrinsic+json": {
              "type": "string"
            },
            "text/plain": [
              "'/content/gdrive/My Drive/Data/SQuADV2.0/dev-v2.0.json'"
            ]
          },
          "metadata": {
            "tags": []
          },
          "execution_count": 6
        }
      ]
    },
    {
      "cell_type": "code",
      "metadata": {
        "id": "fn3XXWnUuTKI"
      },
      "source": [
        " # Loading both using pandas\n",
        "train = pd.read_json(os.path.join(squad_root, 'train-v2.0.json'), orient='column')\n",
        "dev = pd.read_json(os.path.join(squad_root, 'dev-v2.0.json'), orient='column')"
      ],
      "execution_count": null,
      "outputs": []
    },
    {
      "cell_type": "markdown",
      "metadata": {
        "id": "S_Vx2gXDEVSW"
      },
      "source": [
        "Now we create a function to visualise the context, the question and the answer as well as the theme or the title of the subject  which can be a person, a place, ... Each answer is a part of the context in the case where an answer exists or a question is valid. These can be explored using the fields of the json file."
      ]
    },
    {
      "cell_type": "code",
      "metadata": {
        "id": "X5lmKtI9uTKI"
      },
      "source": [
        "def print_question_squad(data, idx_title, idx_paragraph, idx_question):\n",
        "    \n",
        "    title = data['data'][idx_title]['title']\n",
        "    paragraph = data['data'][idx_title]['paragraphs'][idx_paragraph]['context']\n",
        "    question = data['data'][idx_title]['paragraphs'][idx_paragraph]['qas'][idx_question]['question']\n",
        "    answer = data['data'][idx_title]['paragraphs'][idx_paragraph]['qas'][idx_question]['answers'][0]['text']\n",
        "    answer_start = data['data'][idx_title]['paragraphs'][idx_paragraph]['qas'][idx_question]['answers'][0]['answer_start']\n",
        "    output =  f\"\\033[1mThe title is : \\033[0m{title}\\n\\033[1mThe paragraph is : \\033[0m\\n{paragraph}\\n\" +\\\n",
        "    f\"\\033[1mThe question  is : \\033[0m\\n{question}\\n\\033[1mThe answer starts at index  \\033[0m{answer_start}\" +\\\n",
        "    f\"\\033[1m and the answer is : \\033[0m{answer}\"   \n",
        "    \n",
        "    print(output)"
      ],
      "execution_count": null,
      "outputs": []
    },
    {
      "cell_type": "markdown",
      "metadata": {
        "id": "5F79sUFWuTKJ"
      },
      "source": [
        "Let's print an example, feel free to try any other combination."
      ]
    },
    {
      "cell_type": "code",
      "metadata": {
        "colab": {
          "base_uri": "https://localhost:8080/"
        },
        "id": "ZPVh-0eGuTKJ",
        "outputId": "68c3c2e7-93ce-4654-8263-393160f9ce83"
      },
      "source": [
        "idx_title, idx_question, idx_paragraph = 0, 0, 0\n",
        "print_question_squad(train, idx_title, idx_paragraph, idx_question)"
      ],
      "execution_count": null,
      "outputs": [
        {
          "output_type": "stream",
          "text": [
            "\u001b[1mThe title is : \u001b[0mBeyoncé\n",
            "\u001b[1mThe paragraph is : \u001b[0m\n",
            "Beyoncé Giselle Knowles-Carter (/biːˈjɒnseɪ/ bee-YON-say) (born September 4, 1981) is an American singer, songwriter, record producer and actress. Born and raised in Houston, Texas, she performed in various singing and dancing competitions as a child, and rose to fame in the late 1990s as lead singer of R&B girl-group Destiny's Child. Managed by her father, Mathew Knowles, the group became one of the world's best-selling girl groups of all time. Their hiatus saw the release of Beyoncé's debut album, Dangerously in Love (2003), which established her as a solo artist worldwide, earned five Grammy Awards and featured the Billboard Hot 100 number-one singles \"Crazy in Love\" and \"Baby Boy\".\n",
            "\u001b[1mThe question  is : \u001b[0m\n",
            "When did Beyonce start becoming popular?\n",
            "\u001b[1mThe answer starts at index  \u001b[0m269\u001b[1m and the answer is : \u001b[0min the late 1990s\n"
          ],
          "name": "stdout"
        }
      ]
    },
    {
      "cell_type": "markdown",
      "metadata": {
        "id": "5yvyyc_AuTKK"
      },
      "source": [
        "Lets see how many titles, paragraphs and questions our dataset includes "
      ]
    },
    {
      "cell_type": "code",
      "metadata": {
        "id": "TUU9xl3guTKL"
      },
      "source": [
        "def data_stats_squad(data):\n",
        "    \n",
        "    titles_count = len(data['data'])\n",
        "    tot_para_count = 0\n",
        "    tot_quest_count = 0\n",
        "    for idx_title in range(titles_count):\n",
        "        para_count = len(data['data'][idx_title]['paragraphs'])\n",
        "        tot_para_count += para_count\n",
        "\n",
        "        for idx_paragraph in range(para_count):\n",
        "            quest_count = len(data['data'][idx_title]['paragraphs'][idx_paragraph]['qas'])\n",
        "\n",
        "            tot_quest_count += quest_count\n",
        "\n",
        "    print(f'There are {titles_count} titles')\n",
        "    print(f'There are {tot_para_count} paragraphs')\n",
        "    print(f'There are {tot_quest_count} questions')"
      ],
      "execution_count": null,
      "outputs": []
    },
    {
      "cell_type": "code",
      "metadata": {
        "colab": {
          "base_uri": "https://localhost:8080/"
        },
        "id": "mB9G7fw1uTKL",
        "outputId": "5217366a-bfd2-4d82-d93d-944bf12efdf3"
      },
      "source": [
        "data_stats_squad(train)"
      ],
      "execution_count": null,
      "outputs": [
        {
          "output_type": "stream",
          "text": [
            "There are 442 titles\n",
            "There are 19035 paragraphs\n",
            "There are 130319 questions\n"
          ],
          "name": "stdout"
        }
      ]
    },
    {
      "cell_type": "markdown",
      "metadata": {
        "id": "F5dehcEouTKM"
      },
      "source": [
        "<div class=\"alert alert-info\">\n",
        "    <h3> Part 1.2 : The NewsQA V1.0 dataset </h3>\n",
        "</div>"
      ]
    },
    {
      "cell_type": "markdown",
      "metadata": {
        "id": "NzHiErKxEVSc"
      },
      "source": [
        "The NewsQA was introduced by Trischler et al. in NewsQA: A Machine Comprehension Dataset. The NewsQA dataset is a crowd-sourced machine reading comprehension dataset of 120,000 question-answer pairs. \n",
        "Documents are CNN news articles.\n",
        "- Questions are written by human users in natural language.\n",
        "- Answers may be multiword passages of the source text.\n",
        "- Questions may be unanswerable.\n",
        "- NewsQA is collected using a 3-stage, siloed process.\n",
        "- Questioners see only an article’s headline and highlights.\n",
        "- Answerers see the question and the full article, then select an answer passage.\n",
        "- Validators see the article, the question, and a set of answers that they rank.\n",
        "- NewsQA is more natural and more challenging than previous datasets.\n",
        "\n",
        "The dataset has two formats : a csv one and a json one. The structucre of both can be found in the official repository that was provided earlier."
      ]
    },
    {
      "cell_type": "markdown",
      "metadata": {
        "id": "tF-tx-cQEVSd"
      },
      "source": [
        "Let's create a NewsQA directory, download both versions of the dataset and load the csv one. We will deal with the json one later."
      ]
    },
    {
      "cell_type": "code",
      "metadata": {
        "id": "N-bAgT8X7Gd9"
      },
      "source": [
        "if not os.path.exists(os.path.join(data_root, 'NewsQA')): # Check if directory exists\n",
        "    os.mkdir(os.path.join(data_root, 'NewsQA')) # create dir if no dir exists\n",
        "newsqa_root = os.path.join(data_root, 'NewsQA') # dir path"
      ],
      "execution_count": null,
      "outputs": []
    },
    {
      "cell_type": "code",
      "metadata": {
        "colab": {
          "base_uri": "https://localhost:8080/",
          "height": 174
        },
        "id": "IVf-TsHPEVSe",
        "outputId": "dc9c1944-510c-4542-bb05-a206fbd400da"
      },
      "source": [
        "url = 'https://drive.google.com/uc?id=1UDrkV2NUzptknTH1OxNRAQptjLj3gPm7' # CSV file link\n",
        "output = os.path.join(newsqa_root, 'combined-newsqa-data-v1.csv')\n",
        "gdown.download(url, output, quiet=False) \n",
        "\n",
        "url = 'https://drive.google.com/uc?id=1-pKxlTolnWYzZCO6XpHWFGghdnqMwT6U' # json file link\n",
        "output = os.path.join(newsqa_root, 'combined-newsqa-data-v1.json')\n",
        "gdown.download(url, output, quiet=False) "
      ],
      "execution_count": null,
      "outputs": [
        {
          "output_type": "stream",
          "text": [
            "Downloading...\n",
            "From: https://drive.google.com/uc?id=1UDrkV2NUzptknTH1OxNRAQptjLj3gPm7\n",
            "To: /content/gdrive/My Drive/Data/NewsQA/combined-newsqa-data-v1.csv\n",
            "467MB [00:04, 105MB/s]\n",
            "Downloading...\n",
            "From: https://drive.google.com/uc?id=1-pKxlTolnWYzZCO6XpHWFGghdnqMwT6U\n",
            "To: /content/gdrive/My Drive/Data/NewsQA/combined-newsqa-data-v1.json\n",
            "84.1MB [00:01, 46.7MB/s]\n"
          ],
          "name": "stderr"
        },
        {
          "output_type": "execute_result",
          "data": {
            "application/vnd.google.colaboratory.intrinsic+json": {
              "type": "string"
            },
            "text/plain": [
              "'/content/gdrive/My Drive/Data/NewsQA/combined-newsqa-data-v1.json'"
            ]
          },
          "metadata": {
            "tags": []
          },
          "execution_count": 13
        }
      ]
    },
    {
      "cell_type": "code",
      "metadata": {
        "id": "lAq2lkPMuTKM"
      },
      "source": [
        "newsqa = pd.read_csv(os.path.join(newsqa_root, 'combined-newsqa-data-v1.csv')) # Load the csv file using pandas"
      ],
      "execution_count": null,
      "outputs": []
    },
    {
      "cell_type": "markdown",
      "metadata": {
        "id": "_-k_INQcuTKN"
      },
      "source": [
        "Let's compute some statistics on the dataset. The reader is free to explore more statistics but these are the ones that we're mainly interested in (stories, questions and answers)"
      ]
    },
    {
      "cell_type": "code",
      "metadata": {
        "id": "qCIV46S5uTKN"
      },
      "source": [
        "def data_stats_newsqa(data):\n",
        "    \n",
        "    # Total number of stories \n",
        "    print(f'There are {len(data.story_id.unique())} unique stories and {len(newsqa)} stories')\n",
        "    # Number of absent answers\n",
        "    print(f'The number of absent answers is {len(data[data.is_answer_absent == 1.0])}')\n",
        "    # Number of bad questions\n",
        "    print(f'The number of bad questions is',len(data[data.is_question_bad.str.contains('1.0')]))"
      ],
      "execution_count": null,
      "outputs": []
    },
    {
      "cell_type": "code",
      "metadata": {
        "colab": {
          "base_uri": "https://localhost:8080/"
        },
        "id": "lfYTMbRAuTKN",
        "outputId": "9be9fe37-620c-4a5f-d17d-9d4856280be7"
      },
      "source": [
        "data_stats_newsqa(newsqa)"
      ],
      "execution_count": null,
      "outputs": [
        {
          "output_type": "stream",
          "text": [
            "There are 12744 unique stories and 119633 stories\n",
            "The number of absent answers is 6178\n",
            "The number of bad questions is 6646\n"
          ],
          "name": "stdout"
        }
      ]
    },
    {
      "cell_type": "markdown",
      "metadata": {
        "id": "K7tYojNVEVSh"
      },
      "source": [
        "Let's print an example of  a story with its question and answer"
      ]
    },
    {
      "cell_type": "code",
      "metadata": {
        "id": "dzP2zc8duTKO"
      },
      "source": [
        "# lets print a story, its question and the answer or answers\n",
        "\n",
        "def print_story_newsqa(data, story_ind=0):\n",
        "    \n",
        "    story = data.loc[story_ind].story_text\n",
        "    \n",
        "    if data.loc[story_ind].is_answer_absent != 1:\n",
        "        \n",
        "        if pd.isnull(data.loc[story_ind].validated_answers):\n",
        "            \n",
        "            answer_ranges = re.findall(r\"[\\w']+\", data.loc[story_ind].answer_char_ranges)\n",
        "            answer_ranges = list(filter(lambda x: x != 'None', answer_ranges))\n",
        "            answers = [story[int(ind_prd):int(ind_nxt)]+\"\\t\" for ind_prd, ind_nxt in zip(answer_ranges[::2], answer_ranges[1::2])]\n",
        "        \n",
        "        else : \n",
        "            \n",
        "            answer_ranges = re.findall(r\"[\\w']+\",  ','.join(list((json.loads(data.loc[story_ind].validated_answers).keys()))))\n",
        "            answer_ranges = list(filter(lambda x: x != 'none', answer_ranges))\n",
        "            answers = [story[int(ind_prd):int(ind_nxt)]+\"\\t\" for ind_prd, ind_nxt in zip(answer_ranges[::2], answer_ranges[1::2])]\n",
        "    else :\n",
        "        \n",
        "        answers = 'No valid answer'\n",
        "        \n",
        "    if data.loc[story_ind].is_question_bad == '1.0':\n",
        "        \n",
        "        question = 'Bad question'\n",
        "    else : \n",
        "        \n",
        "        question = data.loc[story_ind].question\n",
        "    output =  f\"\\033[1mThe story is : \\033[0m{story}\\n\\033[1mThe question is: \\033[0m\\n{question}\\n\" +\\\n",
        "    f\"\\033[1mThe answer/s is/are : \\033[0m\\n\"   \n",
        "    \n",
        "    print(output)\n",
        "    print(*answers)"
      ],
      "execution_count": null,
      "outputs": []
    },
    {
      "cell_type": "code",
      "metadata": {
        "colab": {
          "base_uri": "https://localhost:8080/"
        },
        "id": "gd_g5O19uTKP",
        "outputId": "179198e4-005e-4b9e-ec92-ebd5885c2c4a"
      },
      "source": [
        "print_story_newsqa(newsqa, 2)"
      ],
      "execution_count": null,
      "outputs": [
        {
          "output_type": "stream",
          "text": [
            "\u001b[1mThe story is : \u001b[0mJohannesburg (CNN) -- Miffed by a visa delay that led the Dalai Lama to cancel a trip to South Africa, Archbishop Desmond Tutu lashed out at his government Tuesday, saying it had acted worse than apartheid regimes and had forgotten all that the nation stood for.\n",
            "\n",
            "\n",
            "\n",
            "\n",
            "\n",
            "\"When we used to apply for passports under the apartheid government, we never knew until the last moment what their decision was,\" Tutu said at a news conference. \"Our government is worse than the apartheid government because at least you were expecting it from the apartheid government.\n",
            "\n",
            "\n",
            "\n",
            "\n",
            "\n",
            "\"I have to say that I can't believe this. I really can't believe this,\" Tutu said. \"You have to wake me up and tell me this is actually happening here.\"\n",
            "\n",
            "\n",
            "\n",
            "\n",
            "\n",
            "The Dalai Lama scrapped his planned trip to South Africa this week after the nation failed to issue him a visa in time, his spokesman said.\n",
            "\n",
            "\n",
            "\n",
            "\n",
            "\n",
            "Visa applications for him and his entourage were submitted to the South African High Commission in New Delhi, India, at the end of August, and original passports were submitted on September 20, more than two weeks ago, a statement on his website said.\n",
            "\n",
            "\n",
            "\n",
            "\n",
            "\n",
            "However, South Africa's foreign affairs office said it did not refuse a visa.\n",
            "\n",
            "\n",
            "\n",
            "\n",
            "\n",
            "\"South Africa will not comment on the decision, because it is not our decision, it is his decision,\" according to spokesman Clayson Monyela, who said the visa application was still under consideration.\n",
            "\n",
            "\n",
            "\n",
            "\n",
            "\n",
            "The Dalai Lama had been invited to the country to receive the Mahatma Gandhi International Award for Peace and Reconciliation and to speak at a number of events, including a lecture in honor of Tutu's 80th birthday. Tutu and the Dalai Lama are recipients of the Nobel Peace Prize.\n",
            "\n",
            "\n",
            "\n",
            "\n",
            "\n",
            "Tutu said he would pray for the defeat of South Africa's government, led by the African National Congress (ANC), which is rooted in the fight against the system of apartheid, or legal racial separation, that was present in South Africa until 1994.\n",
            "\n",
            "\n",
            "\n",
            "\n",
            "\n",
            "\"You are disgraceful,\" Tutu said about the government. \"You are behaving in a way that is totally at variance with the things for which we stood.\"\n",
            "\n",
            "\n",
            "\n",
            "\n",
            "\n",
            "The ANC plans to call on government officials to explain to South Africans why the visa process was delayed, spokesman Jackson Mtembu said. He said everyone was in the dark about this matter.\n",
            "\n",
            "\n",
            "\n",
            "\n",
            "\n",
            "But he also suggested that Tutu calm down. A comparison to apartheid regimes, he said, was unfair.\n",
            "\n",
            "\n",
            "\n",
            "\n",
            "\n",
            "This is not the first time the Dalai Lama has not been able to visit South Africa. In 2009, South Africa refused the Tibetan spiritual leader a visa to attend an international peace conference, saying it was not in the country's interest for him to attend.\n",
            "\n",
            "\n",
            "\n",
            "\n",
            "\n",
            "In refusing the 2009 application, South Africa said that if the Dalai Lama attended the conference, the focus would shift away from the 2010 World Cup, the global soccer championship it was hosting.\n",
            "\n",
            "\n",
            "\n",
            "\n",
            "\n",
            "\"We cannot allow focus to shift to China and Tibet,\" presidential spokesman Thabo Masebe said, adding that South Africa had gained much from its trading relationship with China.\n",
            "\n",
            "\n",
            "\n",
            "\n",
            "\n",
            "The Dalai Lama fled Tibet in 1959 after a failed uprising against Chinese rule, and China pressures governments around the world to deny him any legitimacy.\n",
            "\n",
            "\n",
            "\n",
            "\n",
            "\n",
            "Speculation surfaced Tuesday that this year's visit was also affected by South Africa's relationship with China.\n",
            "\n",
            "\n",
            "\n",
            "\n",
            "\n",
            "South African Vice President Kgalema Motlanthe visited Beijing last week and met with Chinese President Hu Jintao to discuss bolstering bilateral ties.\n",
            "\n",
            "\n",
            "\n",
            "\n",
            "\n",
            "Motlanthe said South Africa was ready to boost the strategic partnership between the two countries to a new stage, according to the official Chinese news agency Xinhua.\n",
            "\n",
            "\n",
            "\n",
            "\n",
            "\n",
            "But Monyela said the application had nothing to do with China.\n",
            "\n",
            "\n",
            "\n",
            "\n",
            "\n",
            "\"We are a sovereign nation which takes decisions in our domestic interest,\" Monyela said.\n",
            "\n",
            "\n",
            "\n",
            "\n",
            "\n",
            "The Dalai Lama posted a message on Twitter last week that said: \"Even if the Chinese leave nothing but ashes, Tibet will rise from these ashes as a free country even if it takes a long time to do so.\"\n",
            "\n",
            "\n",
            "\n",
            "\n",
            "\n",
            "Kim Norgaard, CNN's Johannesburg bureau chief, contributed to this report.\n",
            "\u001b[1mThe question is: \u001b[0m\n",
            "who did say South Africa did not issue a visa on time?\n",
            "\u001b[1mThe answer/s is/are : \u001b[0m\n",
            "\n",
            "his spokesman \t Archbishop Desmond Tutu \t\n"
          ],
          "name": "stdout"
        }
      ]
    },
    {
      "cell_type": "markdown",
      "metadata": {
        "id": "9GEkBb7zuTKP"
      },
      "source": [
        "<div class=\"alert alert-info\">\n",
        "    <h3> Part 1.3 : Joining the datasets </h3>\n",
        "</div>"
      ]
    },
    {
      "cell_type": "markdown",
      "metadata": {
        "id": "48OsDcvJEVSl"
      },
      "source": [
        "Before joining the datasets, we will need to create a tokenizer for the context be it the paragraph, the answers or the questions. For this we will employ the spacy tokenizer. "
      ]
    },
    {
      "cell_type": "code",
      "metadata": {
        "id": "sHEl83RZuTKQ"
      },
      "source": [
        "tokenizer = English() # instantiate a tokenizer\n",
        "# tokenizer.add_pipe('sentencizer'); # Create a pipeline, Note that this might not work depending on spacy's version\n",
        "tokenizer.add_pipe(tokenizer.create_pipe('sentencizer')) # Use this if the above option doesn't work\n",
        "\n",
        "def format_context(context):\n",
        "    \n",
        "    rep_dict = {\"]\": \" ] \", \"[\": \" [ \", \"\\n\" : \" \", \"''\": '\" ', \"``\": '\" '} # dictionary for substituting \n",
        "    re.sub('({})'.format('|'.join(map(re.escape, rep_dict.keys()))), lambda m: rep_dict[m.group()], context)\n",
        "    return context\n",
        "\n",
        "def words_token(context):\n",
        "    # used to tokenize a sentence \n",
        "    tokens = [tok.text for tok in tokenizer(context) if tok.text]\n",
        "    return [token for token in tokens if token.strip(\"\\n\").strip()] \n",
        "\n",
        "def sents_token(context):\n",
        "    # used to tokenize  a paragraph/context\n",
        "    return [[token.text for token in sentence if token.text] for sentence in tokenizer(context).sents]\n",
        "\n",
        "def convert_idx(context, tks):\n",
        "    # convert a token into an index\n",
        "    crt, spans = 0, []\n",
        "    for tok in tks:\n",
        "        crt = context.find(tok, crt)\n",
        "        if crt < 0:\n",
        "            print(\"Can't find token {}\".format(tok)) # raise exception if token isn't found\n",
        "            raise Exception()\n",
        "        spans.append((crt, crt + len(tok)))\n",
        "        crt += len(tok)\n",
        "    return spans"
      ],
      "execution_count": null,
      "outputs": []
    },
    {
      "cell_type": "markdown",
      "metadata": {
        "id": "gJ2GVDmXEVSn"
      },
      "source": [
        "Now we will defrag our dataset into its different components : answers, contexts/paragraphs, sentences and questions then store each in a file"
      ]
    },
    {
      "cell_type": "code",
      "metadata": {
        "id": "gj4vSVY0uTKQ"
      },
      "source": [
        "def defrag_squad(data, label='train'):\n",
        "    \n",
        "    #Create a file for each fragment\n",
        "    with open(os.path.join(squad_root, label + '.context'), 'w', encoding=\"utf-8\") as context_file,\\\n",
        "        open(os.path.join(squad_root, label + '.sentences'), 'w', encoding=\"utf-8\") as sentence_file,\\\n",
        "        open(os.path.join(squad_root, label + '.question'), 'w', encoding=\"utf-8\") as question_file,\\\n",
        "        open(os.path.join(squad_root, label + '.answer'), 'w', encoding=\"utf-8\") as answer_file:\n",
        "        # let's loop over the titles \n",
        "        for idx_art in range(len(data)):\n",
        "            # read each context/paragraph\n",
        "            par_l = data['data'][idx_art]['paragraphs']\n",
        "            # Loop over sentences/paragraphs in the context \n",
        "            for par in par_l:\n",
        "                # process the context\n",
        "                context = par['context']\n",
        "                context = format_context(context)\n",
        "                context_tks = words_token(context)\n",
        "                con_sents = sents_token(context)\n",
        "                spans = convert_idx(context, context_tks)\n",
        "                tok_nbr= 0 \n",
        "                # get the first token index in each sentence\n",
        "                first_tok_sent = []\n",
        "                for sent in con_sents:\n",
        "                    first_tok_sent.append(tok_nbr)\n",
        "                    tok_nbr += len(sent)\n",
        "                # recover the questions \n",
        "                qa_l = par['qas']\n",
        "                # Loop over the questions\n",
        "                for qa in qa_l:\n",
        "                    # read a question and process it\n",
        "                    question = qa['question']\n",
        "                    question = format_context(question)\n",
        "                    q_tok = words_token(question)\n",
        "                    # discard bad questions\n",
        "                    if q_tok[-1] != '?':\n",
        "                        continue\n",
        "                    # check if an answers exists in the training data in case of traning \n",
        "                    if label == \"train\":\n",
        "                        idx_ans = 1 if qa['answers'] else 0\n",
        "                    # this for the dev part  \n",
        "                    else:\n",
        "                        idx_ans = len(qa['answers'])\n",
        "                    # If the answer exists\n",
        "                    if idx_ans:\n",
        "                        # loop over the answer\n",
        "                        for id_ans in range(idx_ans):\n",
        "                            # preprocess and get the answer range/span\n",
        "                            answer = qa['answers'][id_ans]['text']\n",
        "                            answer = format_context(answer)\n",
        "                            ans_tok = words_token(answer)\n",
        "                            ans_strt = qa['answers'][id_ans]['answer_start']\n",
        "                            ans_stp = ans_strt + len(answer)\n",
        "                            ans_span = []\n",
        "                            # get the index of the answer span\n",
        "                            for idx, span in enumerate(spans):\n",
        "                                if not (ans_stp <= span[0] or ans_strt >= span[1]):\n",
        "                                    ans_span.append(idx) # fill in the answer span\n",
        "                            if not ans_span:\n",
        "                                continue\n",
        "                            # get the answer from the spans\n",
        "                            sent_tks = []\n",
        "                            for idx, start in enumerate(first_tok_sent):\n",
        "                                if ans_span[0] >= start:\n",
        "                                    sent_tks = con_sents[idx]\n",
        "                                    ans_sent_span = [span - start for span in ans_span]  \n",
        "                                else:\n",
        "                                    break\n",
        "                            if not sent_tks:\n",
        "                                print(\"Sentence cannot be found\")\n",
        "                                raise Exception()\n",
        "                        # Write each component in its file, we mark the interesting portion using 1 marker\n",
        "                        context_file.write(\" \".join([token + u\"￨\" + \"1\" if idx in ans_span else token + u\"￨\" + \"0\" for idx, token in enumerate(context_tks)]) + \"\\n\")\n",
        "                        sentence_file.write(\" \".join([token + u\"￨\" + \"1\" if idx in ans_sent_span else token + u\"￨\" + \"0\" for idx, token in enumerate(sent_tks)]) + \"\\n\")\n",
        "                        question_file.write(\" \".join([token for token in q_tok]) + \"\\n\")\n",
        "                        answer_file.write(\" \".join([token for token in ans_tok]) + \"\\n\")\n"
      ],
      "execution_count": null,
      "outputs": []
    },
    {
      "cell_type": "markdown",
      "metadata": {
        "id": "YkMtypSvEVSr"
      },
      "source": [
        "Let's defrag each part of the dataset : the train and the development one"
      ]
    },
    {
      "cell_type": "code",
      "metadata": {
        "id": "vPhep66CuTKT"
      },
      "source": [
        "defrag_squad(train, label='train') "
      ],
      "execution_count": null,
      "outputs": []
    },
    {
      "cell_type": "code",
      "metadata": {
        "id": "EA-5ClW4uTKT"
      },
      "source": [
        "defrag_squad(dev, label='dev') "
      ],
      "execution_count": null,
      "outputs": []
    },
    {
      "cell_type": "markdown",
      "metadata": {
        "id": "GapOUbrPEVSt"
      },
      "source": [
        "We will also defrag the NewsQA dataset like the squad one. We will use the json file here. We repeat the same process as in the squad dataset"
      ]
    },
    {
      "cell_type": "code",
      "metadata": {
        "id": "vj8dvZ22uTKT"
      },
      "source": [
        "def defrag_newsqa(data):\n",
        "    #loop over label\n",
        "    labels = [\"train\", \"dev\"]\n",
        "    \n",
        "    for label in labels:\n",
        "        # create a file for each fragment : answers, contexts, questions and sentences\n",
        "        with open(os.path.join(newsqa_root, label + \".context\"), \"w\", encoding=\"utf-8\") as context_file,\\\n",
        "             open(os.path.join(newsqa_root, label + \".sentences\"), \"w\", encoding=\"utf-8\") as sentence_file,\\\n",
        "             open(os.path.join(newsqa_root, label + \".question\"), \"w\", encoding=\"utf-8\") as question_file,\\\n",
        "             open(os.path.join(newsqa_root, label + \".answer\"), \"w\", encoding=\"utf-8\") as answer_file:\n",
        "            # loop over articles \n",
        "            for article in data[\"data\"]:\n",
        "                # read the context and preprocess it\n",
        "                # same procedure as the previous dataset\n",
        "                context = article[\"text\"]\n",
        "                cont_tks = words_token(context)\n",
        "                cont_sents = sents_token(context)\n",
        "                spans = convert_idx(context, cont_tks)\n",
        "                tks_nbr = 0\n",
        "                first_tok_sent = []\n",
        "                for sent in cont_sents:\n",
        "                    first_tok_sent.append(tks_nbr)\n",
        "                    tks_nbr += len(sent)\n",
        "                # discard articles that are not in the category of interest \n",
        "                if not article[\"type\"] == label:\n",
        "                    continue\n",
        "                # loop over questions   \n",
        "                for question in article[\"questions\"]:\n",
        "                    # get only good question \n",
        "                    if question.get(\"isQuestionBad\") == 0 and question[\"consensus\"].get(\"s\"):\n",
        "                        \n",
        "                        quest = question[\"q\"].strip()\n",
        "                        \n",
        "                        if quest[-1] != \"?\" :\n",
        "                            continue\n",
        "                        # get the answer and its span\n",
        "                        ans_strt = question[\"consensus\"][\"s\"]\n",
        "                        ans = context[question[\"consensus\"][\"s\"]: question[\"consensus\"][\"e\"]].strip(\".| \").strip(\"\\n\")\n",
        "                        ans_stp = ans_strt + len(ans)\n",
        "                        ans_span = []\n",
        "                        \n",
        "                        for idx, span in enumerate(spans):\n",
        "                            \n",
        "                            if not (ans_stp <= span[0] or ans_strt >= span[1]):\n",
        "                                ans_span.append(idx)\n",
        "                                \n",
        "                        if not ans_span:\n",
        "                            continue\n",
        "\n",
        "                        sent_tks = []\n",
        "                        for idx, strt in enumerate(first_tok_sent):\n",
        "                            \n",
        "                            if ans_span[0] >= strt:\n",
        "                                \n",
        "                                sent_tks = cont_sents[idx]\n",
        "                                ans_sent_span = [span - strt for span in ans_span]\n",
        "                                \n",
        "                            else:\n",
        "                                break\n",
        "\n",
        "                        sent = []\n",
        "                        # get the sentence with the answer tags for tokens (1 for good, 0 for bad)\n",
        "                        for idx, tok in enumerate(sent_tks):\n",
        "                            \n",
        "                            if tok.strip(\"\\n\").strip():\n",
        "                                \n",
        "                                if idx in ans_sent_span:\n",
        "                                    sent.append(tok + u\"￨\" + \"1\")\n",
        "                                    \n",
        "                                else:\n",
        "                                    sent.append(tok + u\"￨\" + \"0\")\n",
        "                                    \n",
        "                        # remove the CNN tag from stories to get clean context       \n",
        "                        sent = \" \".join(sent)\n",
        "                        sent = sent.strip()\n",
        "                        idx = sent.find(\"(￨0 CNN￨0 )￨0 --￨0 \")\n",
        "                        \n",
        "                        if idx > -1:\n",
        "                            sent = sent[idx + len(\"(￨0 CNN￨0 )￨0 --￨0 \"):]\n",
        "\n",
        "                        ctxt = []\n",
        "                        \n",
        "                        for idx, tok in enumerate(cont_tks):\n",
        "                            \n",
        "                            if tok.strip(\"\\n\").strip():\n",
        "                                \n",
        "                                if idx in ans_span:\n",
        "                                    ctxt.append(tok + u\"￨\" + \"1\")\n",
        "                                    \n",
        "                                else:\n",
        "                                    ctxt.append(tok + u\"￨\" + \"0\")\n",
        "                                    \n",
        "                        ctxt = \" \".join(ctxt)\n",
        "                        ctxt = ctxt.strip()\n",
        "                        idx = ctxt.find(\"(￨0 CNN￨0 )￨0 --￨0 \")\n",
        "                        \n",
        "                        if idx > -1:\n",
        "                            ctxt = ctxt[idx + len(\"(￨0 CNN￨0 )￨0 --￨0 \"):]\n",
        "                            \n",
        "                        # Writing content to respective files\n",
        "                        context_file.write(ctxt + \"\\n\")\n",
        "                        sentence_file.write(sent + \"\\n\")\n",
        "                        question_file.write(quest + \"\\n\")\n",
        "                        answer_file.write(ans + \"\\n\")"
      ],
      "execution_count": null,
      "outputs": []
    },
    {
      "cell_type": "markdown",
      "metadata": {
        "id": "oGX_GYwDEVSx"
      },
      "source": [
        "Here we read the json file and defrag the newsqa dataset."
      ]
    },
    {
      "cell_type": "code",
      "metadata": {
        "id": "IlN4vEIduTKY"
      },
      "source": [
        "newsqa = pd.read_json(os.path.join(newsqa_root, 'combined-newsqa-data-v1.json'))"
      ],
      "execution_count": null,
      "outputs": []
    },
    {
      "cell_type": "code",
      "metadata": {
        "id": "24f5hU8wuTKa"
      },
      "source": [
        "defrag_newsqa(newsqa)"
      ],
      "execution_count": null,
      "outputs": []
    },
    {
      "cell_type": "markdown",
      "metadata": {
        "id": "01VGXf62uTKa"
      },
      "source": [
        "Having defragged the datsets, we now merge each component of each dataset with its respective counterpart"
      ]
    },
    {
      "cell_type": "code",
      "metadata": {
        "id": "oE-vIbqFuTKa"
      },
      "source": [
        "def concat_files(squad_path, newsqa_path, to_dir, label=\"train\"):\n",
        "    # We will only consider the contexts as we want to create a reading comprehension question generator\n",
        "    ext = \".context\"\n",
        "    sentence_files = [os.path.join(squad_path, label + ext),\n",
        "                      os.path.join(newsqa_path, label + ext)]\n",
        "    # getting question files\n",
        "    question_files = [os.path.join(squad_path, label + \".question\"),\n",
        "                      os.path.join(newsqa_path, label + \".question\")]\n",
        "    # Create directory for final data\n",
        "    if not os.path.exists(to_dir):\n",
        "        os.makedirs(to_dir)\n",
        "    # names for the final files\n",
        "    out_sentence_filename = os.path.join(to_dir, label + ext)\n",
        "    out_question_filename = os.path.join(to_dir, label + \".question\")\n",
        "    # concatenate files and writing them into respective directory \n",
        "    for infiles, outfile in zip([sentence_files, question_files], [out_sentence_filename, out_question_filename]):\n",
        "        \n",
        "        with open(outfile, \"w\", encoding='utf8') as o:\n",
        "            for f in infiles:\n",
        "                with open(f, encoding='utf8') as infile:\n",
        "                    for line in infile:\n",
        "                        o.write(line)\n",
        "\n",
        "    with open(out_sentence_filename, \"r\", encoding='utf8') as f,\\\n",
        "         open(out_question_filename, \"r\", encoding='utf8') as g:\n",
        "        sentence_lines = f.readlines()\n",
        "        question_lines = g.readlines()\n",
        "\n",
        "    sentence_lines, question_lines = zip(\n",
        "        *[(s, q) for s, q in sorted(zip(sentence_lines, question_lines), key=lambda x: len(words_token(x[0])))])\n",
        "\n",
        "    with open(out_sentence_filename, \"w\", encoding='utf8') as f,\\\n",
        "         open(out_question_filename, \"w\", encoding='utf8') as g:\n",
        "        for line in sentence_lines:\n",
        "            f.write(line)\n",
        "        for line in question_lines:\n",
        "            g.write(line)"
      ],
      "execution_count": null,
      "outputs": []
    },
    {
      "cell_type": "code",
      "metadata": {
        "id": "dBFeZhDEuTKb"
      },
      "source": [
        "# create directory for the concatenated data\n",
        "if not os.path.exists(os.path.join(data_root, 'Concatenated')):\n",
        "    os.mkdir(os.path.join(data_root, 'Concatenated'))\n",
        "to_dir = os.path.join(data_root, 'Concatenated')\n",
        "# concatenate train and development files\n",
        "concat_files(squad_root, newsqa_root, to_dir, label=\"train\")\n",
        "concat_files(squad_root, newsqa_root, to_dir, label=\"dev\")"
      ],
      "execution_count": null,
      "outputs": []
    },
    {
      "cell_type": "markdown",
      "metadata": {
        "id": "cJkOsIdKuTKb"
      },
      "source": [
        "<div class=\"alert alert-info\">\n",
        "    <h2> Part 2 : Preprocessing data </h2>\n",
        "</div>"
      ]
    },
    {
      "cell_type": "markdown",
      "metadata": {
        "id": "vMaywqcVEVS1"
      },
      "source": [
        "<div class=\"alert alert-info\">\n",
        "    <h3> Part 2.1 : Downloading glove embedding </h3>\n",
        "</div>"
      ]
    },
    {
      "cell_type": "markdown",
      "metadata": {
        "id": "VcaqE4yrEVS2"
      },
      "source": [
        "We will use GLoVe (wikipedia 2014 + gigaword 5) embedding. We will download the zip file and extract it in a folder as it is faster than loading with an API.\n"
      ]
    },
    {
      "cell_type": "code",
      "metadata": {
        "id": "meMg7Cp2EVS2"
      },
      "source": [
        "if not os.path.exists(os.path.join(data_root, 'GLoVe')): # Create dir\n",
        "    os.mkdir(os.path.join(data_root, 'GLoVe'))"
      ],
      "execution_count": null,
      "outputs": []
    },
    {
      "cell_type": "code",
      "metadata": {
        "id": "t8MsyhBUEVS3"
      },
      "source": [
        "request = requests.get('http://nlp.stanford.edu/data/glove.6B.zip') # Download GLoVe embedding"
      ],
      "execution_count": null,
      "outputs": []
    },
    {
      "cell_type": "code",
      "metadata": {
        "id": "lj2jcLCeEVS3"
      },
      "source": [
        "# extracting the data to the respective directory\n",
        "zipped = zipfile.ZipFile(io.BytesIO(request.content)) \n",
        "zipped.extractall(os.path.join(data_root, 'GLoVe'))"
      ],
      "execution_count": null,
      "outputs": []
    },
    {
      "cell_type": "code",
      "metadata": {
        "id": "5PxU0Y5yuTKc"
      },
      "source": [
        "# parameters for the preprocessing\n",
        "min_len_context = 5\n",
        "min_len_sentence = 5\n",
        "min_len_question = 5\n",
        "max_len_context = 100\n",
        "max_len_question = 20\n",
        "word_embed_sz = 300\n",
        "ans_embed_sz = 2\n",
        "in_vocab_sz = 45000\n",
        "out_vocab_sz = 28000"
      ],
      "execution_count": null,
      "outputs": []
    },
    {
      "cell_type": "code",
      "metadata": {
        "id": "abM0uefFuTKc"
      },
      "source": [
        "# We adapt the following codes from \n",
        "# https://github.com/pytorch/text/blob/master/torchtext/datasets/translation.py\n",
        "# to be able to control the max length of the source and target sentences\n",
        "SOS_WORD = '<SOS>'\n",
        "EOS_WORD = '<EOS>'\n",
        "PAD_WORD = '<PAD>'\n",
        "\n",
        "def read_data(text, sep=u\"￨\"):\n",
        "    return [t.split(sep)[0] for t in text.split()], [t.split(sep)[1] for t in text.split()]\n",
        "\n",
        "class MaxlenTranslationDataset(data.Dataset):\n",
        "\n",
        "    def __init__(self, path, exts, fields, max_len=None, **kwargs):\n",
        "\n",
        "        if not isinstance(fields[0], (tuple, list)):\n",
        "            fields = [('src', fields[0]), ('trg', fields[1]), ('feat', fields[2])]\n",
        "\n",
        "        src_path, trg_path = tuple(os.path.expanduser(path + x) for x in exts)\n",
        "\n",
        "        examples = []\n",
        "        with open(src_path, encoding='utf8') as src_file, open(trg_path, encoding='utf8') as trg_file:\n",
        "            for src_line, trg_line in tqdm(zip(src_file, trg_file)):\n",
        "                src_line, feat_line = read_data(src_line)\n",
        "                trg_line = trg_line.split(' ')\n",
        "                if max_len is not None:\n",
        "                    src_line = src_line[:max_len]\n",
        "                    src_line = str(' '.join(src_line))\n",
        "                    trg_line = trg_line[:max_len]\n",
        "                    trg_line = str(' '.join(trg_line))\n",
        "                    feat_line = feat_line[:max_len]\n",
        "                    feat_line = str(' '.join(feat_line))\n",
        "\n",
        "                if src_line != '' and trg_line != '':\n",
        "                    examples.append(data.Example.fromlist(\n",
        "                        [src_line, trg_line, feat_line], fields))\n",
        "\n",
        "        super(MaxlenTranslationDataset, self).__init__(examples, fields, **kwargs)\n",
        "\n",
        "class DataPreprocessor(object):\n",
        "    \n",
        "    def __init__(self):\n",
        "        self.src_field, self.trg_field, self.src_feat_field = self.generate_fields()\n",
        "\n",
        "    def preprocess(self, train_path, val_path, train_file, val_file, glove_path, src_lang, trg_lang, max_len=None):\n",
        "        \n",
        "        print(\"Preprocessing train dataset...\")\n",
        "        \n",
        "        train_dataset = self.generate_data(train_path, src_lang, trg_lang, max_len)\n",
        "\n",
        "        print(\"Saving train dataset...\")\n",
        "        \n",
        "        self.save_data(train_file, train_dataset)\n",
        "\n",
        "        print(\"Preprocessing validation dataset...\")\n",
        "        \n",
        "        val_dataset = self.generate_data(val_path, src_lang, trg_lang, max_len)\n",
        "\n",
        "        print(\"Saving validation dataset...\")\n",
        "        \n",
        "        self.save_data(val_file, val_dataset)\n",
        "        self.src_field.build_vocab(train_dataset, max_size=in_vocab_sz)\n",
        "        self.trg_field.build_vocab(train_dataset, max_size=out_vocab_sz)\n",
        "        self.src_feat_field.build_vocab(train_dataset, max_size=out_vocab_sz)\n",
        "        src_vocab, trg_vocab, src_feat_vocab = self.generate_vocabs()\n",
        "        vocabs = {'src_vocab': src_vocab, 'trg_vocab': trg_vocab, 'src_feat_vocab':src_feat_vocab}\n",
        "\n",
        "        return train_dataset, val_dataset, vocabs\n",
        "\n",
        "    def load_data(self, train_file, val_file, glove_path):\n",
        "        \n",
        "        train_dataset = torch.load(train_file)\n",
        "        train_examples = train_dataset['examples']\n",
        "\n",
        "        val_dataset = torch.load(val_file)\n",
        "        val_examples = val_dataset['examples']\n",
        "\n",
        "        fields = [('src', self.src_field), ('trg', self.trg_field), ('feat', self.src_feat_field)]\n",
        "        train_dataset = data.Dataset(fields=fields, examples=train_examples)\n",
        "        val_dataset = data.Dataset(fields=fields, examples=val_examples)\n",
        "        vec = vocab.Vectors(os.path.join(glove_path, \"glove.6B.{}d.txt\".format(word_embed_sz)))\n",
        "        self.src_field.build_vocab(train_dataset, vectors=vec, max_size=in_vocab_sz)\n",
        "        self.trg_field.build_vocab(train_dataset, vectors=vec, max_size=out_vocab_sz)\n",
        "        self.src_feat_field.build_vocab(train_dataset, vectors=vec, max_size=out_vocab_sz)\n",
        "        src_vocab, trg_vocab, src_feat_vocab = self.generate_vocabs()\n",
        "        vocabs = {'src_vocab': src_vocab, 'trg_vocab': trg_vocab, 'src_feat_vocab': src_feat_vocab}\n",
        "\n",
        "        return train_dataset, val_dataset, vocabs\n",
        "\n",
        "    def save_data(self, data_file, dataset):\n",
        "        \n",
        "        examples = vars(dataset)['examples']\n",
        "        dataset = {'examples': examples}\n",
        "        torch.save(dataset, data_file)\n",
        "\n",
        "    def generate_fields(self):\n",
        "        \n",
        "        src_field = data.Field(tokenize=words_token,\n",
        "                               init_token=SOS_WORD,\n",
        "                               eos_token=EOS_WORD,\n",
        "                               pad_token=PAD_WORD,\n",
        "                               include_lengths=True,\n",
        "                               batch_first=True,\n",
        "                               fix_length=max_len_context)\n",
        "\n",
        "        trg_field = data.Field(tokenize=words_token,\n",
        "                               init_token=SOS_WORD,\n",
        "                               eos_token=EOS_WORD,\n",
        "                               pad_token=PAD_WORD,\n",
        "                               include_lengths=True,\n",
        "                               batch_first=True,\n",
        "                               fix_length=max_len_question)\n",
        "\n",
        "        src_feat_field = data.Field(tokenize=words_token,\n",
        "                                    pad_token=PAD_WORD,\n",
        "                                    include_lengths=False,\n",
        "                                    batch_first=True,\n",
        "                                    fix_length=max_len_context)\n",
        "\n",
        "        return src_field, trg_field, src_feat_field\n",
        "\n",
        "    def generate_data(self, data_path, src_lang, trg_lang, max_len=None):\n",
        "        \n",
        "        exts = ('.' + src_lang, '.' + trg_lang)\n",
        "\n",
        "        dataset = MaxlenTranslationDataset(path=data_path,\n",
        "                                           exts=(exts),\n",
        "                                           fields=(self.src_field, self.trg_field, self.src_feat_field),\n",
        "                                           max_len=max_len)\n",
        "\n",
        "        return dataset\n",
        "\n",
        "    def generate_vocabs(self):\n",
        "        \n",
        "        src_vocab = self.src_field.vocab\n",
        "        trg_vocab = self.trg_field.vocab\n",
        "        src_feat_vocab = self.src_feat_field.vocab\n",
        "\n",
        "        return src_vocab, trg_vocab, src_feat_vocab"
      ],
      "execution_count": null,
      "outputs": []
    },
    {
      "cell_type": "code",
      "metadata": {
        "colab": {
          "base_uri": "https://localhost:8080/"
        },
        "id": "ReDZJv6nuTKe",
        "outputId": "2ca74bf3-c930-4482-a408-7a794abc528b"
      },
      "source": [
        "# instantiate the preprocessor class, preprocess data and saving into pt format\n",
        "preprocessor = DataPreprocessor()\n",
        "ext = \"context\"\n",
        "preprocessor.preprocess(os.path.join(to_dir, \"train\"),\n",
        "              os.path.join(to_dir, \"dev\"),\n",
        "              os.path.join(to_dir, \"train-dataset.pt\"),\n",
        "              os.path.join(to_dir, \"dev-dataset.pt\"),\n",
        "              os.path.join(data_root, 'GLoVe'),\n",
        "              ext, \"question\", max_len=max_len_context);"
      ],
      "execution_count": null,
      "outputs": [
        {
          "output_type": "stream",
          "text": [
            "161it [00:00, 1609.64it/s]"
          ],
          "name": "stderr"
        },
        {
          "output_type": "stream",
          "text": [
            "Preprocessing train dataset...\n"
          ],
          "name": "stdout"
        },
        {
          "output_type": "stream",
          "text": [
            "143126it [01:50, 1294.21it/s]\n"
          ],
          "name": "stderr"
        },
        {
          "output_type": "stream",
          "text": [
            "Saving train dataset...\n"
          ],
          "name": "stdout"
        },
        {
          "output_type": "stream",
          "text": [
            "269it [00:00, 2686.92it/s]"
          ],
          "name": "stderr"
        },
        {
          "output_type": "stream",
          "text": [
            "Preprocessing validation dataset...\n"
          ],
          "name": "stdout"
        },
        {
          "output_type": "stream",
          "text": [
            "9091it [00:07, 1237.72it/s]\n"
          ],
          "name": "stderr"
        },
        {
          "output_type": "stream",
          "text": [
            "Saving validation dataset...\n"
          ],
          "name": "stdout"
        }
      ]
    },
    {
      "cell_type": "markdown",
      "metadata": {
        "id": "-_IRT9j3uTKf"
      },
      "source": [
        "<div class=\"alert alert-info\">\n",
        "    <h2> Part 3 : Neural question generation through seq2seq model </h2>\n",
        "</div>"
      ]
    },
    {
      "cell_type": "markdown",
      "metadata": {
        "id": "PzxQSWeCEVS9"
      },
      "source": [
        "We adapt the following model from Learning to Ask: Neural Question Generation for Reading Comprehension by Xinya Du et al."
      ]
    },
    {
      "cell_type": "markdown",
      "metadata": {
        "id": "FbIShlxAEVS-"
      },
      "source": [
        "<div class=\"alert alert-info\">\n",
        "    <h3> Part 3.1 : Coding the layers </h3>\n",
        "</div>"
      ]
    },
    {
      "cell_type": "code",
      "metadata": {
        "id": "C1frAZk-uTKf"
      },
      "source": [
        "# The below functions are taken from\n",
        "# https://github.com/huggingface/transfer-learning-conv-ai/blob/master/train.py \n",
        "def top_filtering(logits, top_k=0, top_p=0.0, threshold=-float('Inf'), filter_value=-float('Inf')):\n",
        "    \"\"\" Filter a distribution of logits using top-k, top-p (nucleus) and/or threshold filtering\n",
        "        Args:\n",
        "            logits: logits distribution shape (vocabulary size)\n",
        "            top_k: <=0: no filtering, >0: keep only top k tokens with highest probability.\n",
        "            top_p: <=0.0: no filtering, >0.0: keep only a subset S of candidates, where S is the smallest subset\n",
        "                whose total probability mass is greater than or equal to the threshold top_p.\n",
        "                In practice, we select the highest probability tokens whose cumulative probability mass exceeds\n",
        "                the threshold top_p.\n",
        "            threshold: a minimal threshold to keep logits\n",
        "    \"\"\"\n",
        "    assert logits.dim() == 1  # Only work for batch size 1 for now - could update but it would obfuscate a bit the code\n",
        "    top_k = min(top_k, logits.size(-1))\n",
        "    if top_k > 0:\n",
        "        # Remove all tokens with a probability less than the last token in the top-k tokens\n",
        "        indices_to_remove = logits < torch.topk(logits, top_k)[0][..., -1, None]\n",
        "        logits[indices_to_remove] = filter_value\n",
        "\n",
        "    if top_p > 0.0:\n",
        "        # Compute cumulative probabilities of sorted tokens\n",
        "        sorted_logits, sorted_indices = torch.sort(logits, descending=True)\n",
        "        cumulative_probabilities = torch.cumsum(F.softmax(sorted_logits, dim=-1), dim=-1)\n",
        "\n",
        "        # Remove tokens with cumulative probability above the threshold\n",
        "        sorted_indices_to_remove = cumulative_probabilities > top_p\n",
        "        # Shift the indices to the right to keep also the first token above the threshold\n",
        "        sorted_indices_to_remove[..., 1:] = sorted_indices_to_remove[..., :-1].clone()\n",
        "        sorted_indices_to_remove[..., 0] = 0\n",
        "\n",
        "        # Back to unsorted indices and set them to -infinity\n",
        "        indices_to_remove = sorted_indices[sorted_indices_to_remove]\n",
        "        logits[indices_to_remove] = filter_value\n",
        "\n",
        "    indices_to_remove = logits < threshold\n",
        "    logits[indices_to_remove] = filter_value\n",
        "\n",
        "    return logits\n",
        "\n",
        "\n",
        "def sample_sequence(logits, top_k, top_p, tempt, greedy=False):\n",
        "    \n",
        "    logits = logits[0] / tempt\n",
        "    logits = top_filtering(logits, top_k=top_k, top_p=top_p)\n",
        "    probs = F.softmax(logits, dim=-1)\n",
        "    pred = torch.topk(probs, 1)[1] if greedy else torch.multinomial(probs, 1)\n",
        "    \n",
        "    return pred, probs"
      ],
      "execution_count": null,
      "outputs": []
    },
    {
      "cell_type": "markdown",
      "metadata": {
        "id": "5kWTrZ_KEVTA"
      },
      "source": [
        "Parameters for decoding  and learning"
      ]
    },
    {
      "cell_type": "code",
      "metadata": {
        "id": "rbZXNGjfuTKg"
      },
      "source": [
        "top_k = 0.\n",
        "top_p = 0.9\n",
        "tempt = 0.7\n",
        "dcd_type = \"top_k\""
      ],
      "execution_count": null,
      "outputs": []
    },
    {
      "cell_type": "markdown",
      "metadata": {
        "id": "d_C2pRxVEVTB"
      },
      "source": [
        "Layers for the model"
      ]
    },
    {
      "cell_type": "code",
      "metadata": {
        "id": "CSidYHa_uTKg"
      },
      "source": [
        "# Embedding layer\n",
        "class Embedding(nn.Module):\n",
        "    def __init__(self, w_vctrs, pad_idx, drop_prob):\n",
        "        super(Embedding, self).__init__()\n",
        "        self.drop_prob = drop_prob\n",
        "        self.word_embed = nn.Embedding.from_pretrained(w_vctrs, padding_idx=pad_idx, freeze=False)\n",
        "        self.ans_embed = nn.Embedding(4, ans_embed_sz, padding_idx=pad_idx)\n",
        "\n",
        "    def forward(self, x, y=None):\n",
        "        embed = self.word_embed(x)\n",
        "        if y != None:\n",
        "            ans_embed = self.ans_embed(y)\n",
        "            embed = torch.cat((embed, ans_embed), dim=-1)\n",
        "        embed = F.dropout(embed, self.drop_prob, self.training)\n",
        "        return embed\n",
        "\n",
        "#Encoder layer\n",
        "\n",
        "class Encoder(nn.Module):\n",
        "    \n",
        "    def __init__(self, in_sz, hid_sz, nbr_lyr, w_vctrs, device, bidrct=True, drop_prob=0.):\n",
        "        super(Encoder, self).__init__()\n",
        "        nbr_drct= 2 if bidrct else 1\n",
        "        hid_sz //= nbr_drct\n",
        "\n",
        "        self.embed = Embedding(w_vctrs, pad_idx=1, drop_prob=drop_prob)\n",
        "        self.drop_prob = drop_prob\n",
        "        self.rnn = nn.LSTM(in_sz, hid_sz, nbr_lyr,\n",
        "                           batch_first=True,\n",
        "                           bidirectional=bidrct,\n",
        "                           dropout=drop_prob if nbr_lyr > 1 else 0)\n",
        "        self.device=device\n",
        "        \n",
        "    def forward(self, x, lens, y=None):\n",
        "\n",
        "        x = self.embed(x, y)\n",
        "        x = pack_padded_sequence(x, lens.cpu(), batch_first=True).to(self.device)\n",
        "        x, (hidden, cell) = self.rnn(x) \n",
        "        x, _ = pad_packed_sequence(x, batch_first=True)\n",
        "        return x, (hidden, cell)\n",
        "\n",
        "# Decoder layer \n",
        "\n",
        "class Decoder(nn.Module):\n",
        "    def __init__(self, in_sz, hid_sz, w_vctrs, nbr_lyr, trg_vocab, device, dropout, attn=None,\n",
        "                 min_len_sentence=min_len_sentence, max_len_sentence=max_len_question, top_k=top_k, top_p=top_p,\n",
        "                 tempt=tempt, dcd_type=dcd_type):\n",
        "        \n",
        "        super().__init__()\n",
        "        self.out_dim = len(trg_vocab.itos)\n",
        "        self.embed = nn.Embedding.from_pretrained(w_vctrs, freeze=True)\n",
        "        self.rnn = nn.LSTM(in_sz, hid_sz, nbr_lyr, batch_first=True, bidirectional=False, dropout=dropout)\n",
        "        self.attn = Attention(hid_sz=hid_sz, attn_type=\"general\") if attn else None\n",
        "        self.generate = Generator(dcd_sz=hid_sz, out_dim=len(trg_vocab.itos))\n",
        "        self.dropout = nn.Dropout(dropout)\n",
        "        self.min_len_sentence = min_len_sentence\n",
        "        self.max_len_sentence = max_len_sentence\n",
        "        self.top_k = top_k\n",
        "        self.top_p = top_p\n",
        "        self.tempt = tempt\n",
        "        self.dcd_type = dcd_type\n",
        "        self.spctks_idx = [trg_vocab.stoi[t] for t in [\"<EOS>\", \"<PAD>\"]]\n",
        "        self.device=device\n",
        "\n",
        "    def rnn_decode(self, dcd_in, dcd_hid, enc_out):\n",
        "        \n",
        "        dcd_out, dcd_hid = self.rnn(dcd_in, dcd_hid)\n",
        "\n",
        "        if self.attn:\n",
        "            dcd_out, _ = self.attn(dcd_out, enc_out)\n",
        "\n",
        "        return self.dropout(dcd_out), dcd_hid\n",
        "\n",
        "    def top_k_top_p_decode(self, dcd_hid, enc_out):\n",
        "        \n",
        "        batch_sz = enc_out.size(0)\n",
        "        out_l = []\n",
        "\n",
        "        dcd_in = torch.zeros(enc_out.size(0), 1).fill_(2).long().to(self.device)\n",
        "        in_feed = torch.zeros(batch_sz, 1, enc_out.size(2), device=self.device)\n",
        "\n",
        "        for i in range(0, self.max_len_sentence):\n",
        "            \n",
        "            dcd_in = torch.cat((self.embed(dcd_in), in_feed), 2)\n",
        "            dcd_out, dcd_hid = self.rnn_decode(dcd_in, dcd_hid, enc_out)\n",
        "            out = self.generate(dcd_out).to(device)\n",
        "            out, probs = sample_sequence(out, self.top_k, self.top_p, self.tempt, False)\n",
        "        \n",
        "            if i < self.min_len_sentence and out.item() in self.spctks_idx:\n",
        "                while out.item() in self.spctks_idx:\n",
        "                    out = torch.multinomial(probs, num_samples=1).to(self.device)\n",
        "                    \n",
        "            if out.item() in self.spctks_idx:\n",
        "                return out_l\n",
        "            \n",
        "            out_l.append(out.item())\n",
        "            dcd_in = out.long().unsqueeze(1)\n",
        "            in_feed = dcd_out\n",
        "\n",
        "        return out_l\n",
        "\n",
        "    def greedy_decode(self, dcd_hid, enc_out):\n",
        "        \n",
        "        batch_sz = enc_out.size(0)\n",
        "        out_l = []\n",
        "        dcd_in = torch.zeros(enc_out.size(0), 1).fill_(2).long().to(device)\n",
        "        in_feed = torch.zeros(batch_sz, 1, enc_out.size(2), device=self.device)\n",
        "\n",
        "        for t in range(0, self.max_len_sentence):\n",
        "            \n",
        "            dcd_in = self.embed(dcd_in) \n",
        "            dcd_in = torch.cat((dcd_in, in_feed), 2)\n",
        "            dcd_out, dcd_hid = self.rnn_decode(dcd_in, dcd_hid, enc_out)\n",
        "            output = self.generate(dcd_out)\n",
        "            _, res = output.data.topk(1)\n",
        "            res = res.view(-1)\n",
        "\n",
        "            if res.item() in self.spctks_idx:\n",
        "                return out_l\n",
        "\n",
        "            out_l.append(res.item())\n",
        "            dcd_in = res.detach().view(-1, 1)\n",
        "            in_feed = dcd_out\n",
        "\n",
        "        return out_l\n",
        "\n",
        "    def forward(self, enc_out, enc_hid, quest=None):\n",
        "        \n",
        "        batch_sz = enc_out.size(0)\n",
        "        out_l = []\n",
        "        enc_hid = tuple(\n",
        "                (torch.cat((lyr[0:lyr.size(0):2], lyr[1:lyr.size(0):2]), dim=2) for lyr in enc_hid))\n",
        "        dcd_hid, enc_out = enc_hid, enc_out[:, -1, :].unsqueeze(1) if not self.attn else enc_out\n",
        "\n",
        "        if quest is not None: \n",
        "            \n",
        "            quest_emb = self.embed(quest)\n",
        "            in_feed = torch.zeros(batch_sz, 1, enc_out.size(2), device=self.device)\n",
        "            \n",
        "            for dcd_in in quest_emb[:, :-1, :].split(1, 1):\n",
        "                \n",
        "                dcd_in = torch.cat((dcd_in, in_feed), 2)\n",
        "                dcd_out, dcd_hid = self.rnn_decode(dcd_in, dcd_hid, enc_out)\n",
        "                out_l.append(self.generate(dcd_out))\n",
        "                in_feed = dcd_out\n",
        "\n",
        "        else: \n",
        "            \n",
        "            if self.dcd_type not in [\"top_k\", \"greedy\"]:\n",
        "              \n",
        "                print(\"Decode can be greedy or top_k\")\n",
        "                return out_l\n",
        "            \n",
        "            if self.dcd_type == \"top_k\":\n",
        "                out_l = self.top_k_top_p_decode(dcd_hid, enc_out)\n",
        "                \n",
        "            else:\n",
        "                out_l = self.greedy_decode(dcd_hid, enc_out)\n",
        "\n",
        "        return out_l\n",
        "\n",
        "# Generator layer\n",
        "class Generator(nn.Module):\n",
        "    def __init__(self, dcd_sz, out_dim):\n",
        "        \n",
        "        super(Generator, self).__init__()\n",
        "        self.generate = nn.LogSoftmax(dim=-1)\n",
        "        self.generator = nn.Linear(dcd_sz, out_dim)\n",
        "\n",
        "    def forward(self, x):\n",
        "        \n",
        "        return  self.generate(self.generator(x)).squeeze(1)\n",
        "\n",
        "# Attention layer\n",
        "\n",
        "class Attention(nn.Module):\n",
        "    \n",
        "    def __init__(self, hid_sz, attn_type=\"dot\"):\n",
        "        \n",
        "        super(Attention, self).__init__()\n",
        "        assert attn_type in [\"dot\", \"general\", \"mlp\"], (\n",
        "            \"Attention type is not valid : {:s}).\".format(attn_type))\n",
        "        self.hid_sz = hid_sz\n",
        "        self.attn_type = attn_type\n",
        "\n",
        "        if self.attn_type == \"general\":\n",
        "            \n",
        "            self.input_lin = nn.Linear(hid_sz, hid_sz, bias=False)\n",
        "            \n",
        "        elif self.attn_type == \"mlp\":\n",
        "            \n",
        "            self.linear_cont = nn.Linear(hid_sz, hid_sz, bias=False)\n",
        "            self.linear_query = nn.Linear(hid_sz, hid_sz, bias=True)\n",
        "            self.to_val = nn.Linear(hid_sz, 1, bias=False)\n",
        "        \n",
        "        self.output_lin = nn.Linear(hid_sz * 2, hid_sz, bias= self.attn_type == \"mlp\")\n",
        "\n",
        "    # compute score\n",
        "    def scoring(self, hid_tar, hid_src):\n",
        "        \n",
        "        src_batch, src_len, src_dim = hid_src.size()\n",
        "        tar_batch, tar_len, tar_dim = hid_tar.size()\n",
        "        \n",
        "        if self.attn_type in [\"general\", \"dot\"]:\n",
        "            \n",
        "            if self.attn_type == \"general\":\n",
        "                \n",
        "                hid_tar = self.input_lin(hid_tar.view(tar_batch * tar_len, tar_dim)).view(tar_batch, tar_len, tar_dim)\n",
        "            \n",
        "            return torch.bmm(hid_tar, hid_src.transpose(1, 2))\n",
        "\n",
        "        else:\n",
        "            \n",
        "            hid_sz = self.hid_sz\n",
        "            word_query = self.linear_query(hid_tar.view(-1, hid_sz))\n",
        "            word_query = word_query.view(tar_batch, tar_len, 1, hid_sz)\n",
        "            word_query = word_query.expand(tar_batch, tar_len, src_len, hid_sz)\n",
        "            unit_hid = self.linear_cont(hid_src.contiguous().view(-1, hid_sz))\n",
        "            unit_hid = unit_hid.view(src_batch, 1, src_len, hid_sz)\n",
        "            unit_hid = unit_hid.expand(src_batch, tgt_len, src_len, hidden_size)\n",
        "            \n",
        "            return self.to_val(torch.tanh(word_query + unit_hid).view(-1, hid_sz)).view(tar_batch, tar_len, src_len)\n",
        "\n",
        "    def forward(self, dcd_out, enc_out, enc_out_lens=None):\n",
        "        \n",
        "        batch, src_len, src_sz = enc_out.size()\n",
        "        _ , tar_len, _ = dcd_out.size()\n",
        "        alignment = self.scoring(dcd_out, enc_out)\n",
        "        alignment = F.softmax(alignment.view(batch * tar_len, src_len), -1)\n",
        "        alignment = alignment.view(batch, tar_len, src_len)\n",
        "        cont_vec = torch.bmm(alignment, enc_out)\n",
        "        concat_cont_vec = torch.cat((cont_vec, dcd_out), 2).view(batch * tar_len, hid_sz * 2)\n",
        "        hid_attn = self.output_lin(concat_cont_vec).view(batch, tar_len, hid_sz)\n",
        "        \n",
        "        if self.attn_type in [\"general\", \"dot\"]:\n",
        "            \n",
        "            hid_attn = torch.tanh(hid_attn)\n",
        "        hid_attn = hid_attn.transpose(0, 1).contiguous()\n",
        "        alignment = alignment.transpose(0, 1).contiguous()\n",
        "\n",
        "        return hid_attn.permute(1, 0, 2), alignment"
      ],
      "execution_count": null,
      "outputs": []
    },
    {
      "cell_type": "markdown",
      "metadata": {
        "id": "DRUZ3bRlEVTF"
      },
      "source": [
        "<div class=\"alert alert-info\">\n",
        "    <h3> Part 3.2 : Create the seq2seq model </h3>\n",
        "</div>"
      ]
    },
    {
      "cell_type": "code",
      "metadata": {
        "id": "PSDarOhEm4ia"
      },
      "source": [
        "class Seq2Seq(nn.Module):\n",
        "    \n",
        "    def __init__(self, in_vocab, hid_sz, nbr_lyr, trg_vocab, device, drop_prob=0., use_answer=True):\n",
        "        \n",
        "        super(Seq2Seq, self).__init__()\n",
        "        \n",
        "        self.enc = Encoder(in_sz=in_vocab.vectors.size(1) if not use_answer else in_vocab.vectors.size(1) +\n",
        "                                  ans_embed_sz,\n",
        "                                  hid_sz=hid_sz,\n",
        "                                  nbr_lyr=nbr_lyr,\n",
        "                                  w_vctrs=in_vocab.vectors,\n",
        "                                  device = device,\n",
        "                                  bidrct=True,\n",
        "                                  drop_prob=drop_prob if nbr_lyr > 1 else 0.)\n",
        "\n",
        "        self.dec = Decoder(in_sz=in_vocab.vectors.size(1) + hid_sz,\n",
        "                                  hid_sz=hid_sz,\n",
        "                                  w_vctrs=in_vocab.vectors,\n",
        "                                  trg_vocab=trg_vocab,\n",
        "                                  device = device,\n",
        "                                  nbr_lyr=nbr_lyr,\n",
        "                                  dropout=drop_prob if nbr_lyr > 1 else 0.,\n",
        "                                  attn=True)\n",
        "        \n",
        "    def forward(self, sent, len_sent, quest=None, ans=None):\n",
        "      \n",
        "        enc_out, enc_hid = self.enc(sent, len_sent, ans)\n",
        "        output = self.dec(enc_out, enc_hid, quest)\n",
        "\n",
        "        return output"
      ],
      "execution_count": null,
      "outputs": []
    },
    {
      "cell_type": "markdown",
      "metadata": {
        "id": "48OiOaiEEVTG"
      },
      "source": [
        "We create the following functions to evaluate our model"
      ]
    },
    {
      "cell_type": "code",
      "metadata": {
        "id": "lqovCTSiuTKk"
      },
      "source": [
        "\n",
        "def reshape_pred(pred):\n",
        "\n",
        "    return  torch.stack(pred).squeeze(0).transpose(0, 1).contiguous()\n",
        "\n",
        "\n",
        "def crt_pred(pred, grd_trth, padding_idx):\n",
        "    # Compute the correct number of prediction\n",
        "    pred = pred.view(-1, pred.size(2))\n",
        "    pred = pred.max(1)[1]\n",
        "    grd_trth = grd_trth[:, 1:].contiguous()\n",
        "    nn_pad = grd_trth.view(-1).ne(padding_idx)\n",
        "    nbr_crt = pred.eq(grd_trth.view(-1)).masked_select(nn_pad).sum().item()\n",
        "    nbr_nn_pad = nn_pad.sum().item()\n",
        "    \n",
        "    return nbr_nn_pad, nbr_crt\n",
        "\n",
        "def compute_loss(loss, nbr_smpl):\n",
        "    # compute the loss\n",
        "    return np.round(loss / nbr_smpl, 2)\n",
        "\n",
        "def compute_accuracy(nbr_crt, nbr_smpl):\n",
        "    # compute accuracy\n",
        "    return np.round(100 * (nbr_crt / nbr_smpl), 2)\n",
        "\n",
        "def perplex(loss, nbr_smpl):\n",
        "    # compute perplexity\n",
        "    return np.exp(loss / nbr_smpl)"
      ],
      "execution_count": null,
      "outputs": []
    },
    {
      "cell_type": "markdown",
      "metadata": {
        "id": "ZB4ojAgDEVTH"
      },
      "source": [
        "<div class=\"alert alert-info\">\n",
        "    <h3> Part 3.3 : Training the model </h3>\n",
        "</div>"
      ]
    },
    {
      "cell_type": "markdown",
      "metadata": {
        "id": "6UncrMg2EVTH"
      },
      "source": [
        "Setting learning parameters and training ones too. "
      ]
    },
    {
      "cell_type": "code",
      "metadata": {
        "colab": {
          "base_uri": "https://localhost:8080/"
        },
        "id": "xp2NWNL3uTKl",
        "scrolled": true,
        "outputId": "479f3997-6653-445f-9d1c-4ba8b393ba8b"
      },
      "source": [
        "nbr_epochs = 15\n",
        "batch_sz = 64\n",
        "lr = 1.0\n",
        "hid_sz = 600\n",
        "nbr_lyr = 2\n",
        "drop_prob = 0.3\n",
        "start_decay_epoch = 8\n",
        "decay_rate = 0.5\n",
        "use_answer = True\n",
        "\n",
        "\n",
        "train_loss_l = []\n",
        "train_accuracy_l = []\n",
        "train_perplexity_l = []\n",
        "valid_loss_l = []\n",
        "valid_accuracy_l = []\n",
        "valid_perplexity_l = []\n",
        "\n",
        "\n",
        "#Load data\n",
        "preprocessor = DataPreprocessor()\n",
        "train_dataset, valid_dataset, vocabs = preprocessor.load_data(os.path.join(to_dir, \"train-dataset.pt\"),\n",
        "                                                    os.path.join(to_dir, \"dev-dataset.pt\"),\n",
        "                                                    os.path.join(data_root, 'GLoVe'))\n",
        "# Use gpu if available otherwise the cpu\n",
        "device = torch.device(\"cuda:0\" if torch.cuda.is_available() else \"cpu\")\n",
        "# use dataloaders to feed data to the model\n",
        "train_dataloader = data.BucketIterator(train_dataset,\n",
        "                                       batch_size=batch_sz,\n",
        "                                       sort_key=lambda x: len(x.src),\n",
        "                                       sort_within_batch=True,\n",
        "                                       device=device,\n",
        "                                       shuffle=False)\n",
        "\n",
        "\n",
        "valid_dataloader = data.BucketIterator(valid_dataset,\n",
        "                                       batch_size=batch_sz,\n",
        "                                       sort_key=lambda x: len(x.src),\n",
        "                                       sort_within_batch=True,\n",
        "                                       device=device,\n",
        "                                       shuffle=True)\n",
        "\n",
        "print(\"Length of training data loader is:\", len(train_dataloader))\n",
        "print(\"Length of valid data loader is:\", len(valid_dataloader))"
      ],
      "execution_count": null,
      "outputs": [
        {
          "output_type": "stream",
          "text": [
            "100%|███████████████████████████████████████████████████████████████████████▉| 399999/400000 [00:48<00:00, 8236.56it/s]\n"
          ],
          "name": "stderr"
        },
        {
          "output_type": "stream",
          "text": [
            "Length of training data loader is: 2237\n",
            "Length of valid data loader is: 143\n"
          ],
          "name": "stdout"
        }
      ]
    },
    {
      "cell_type": "code",
      "metadata": {
        "id": "_BLHeUC_RLZB"
      },
      "source": [
        "# instantiate the seq2seq model and load on device\n",
        "model = Seq2Seq(in_vocab=vocabs[\"src_vocab\"],\n",
        "                hid_sz=hid_sz,\n",
        "                nbr_lyr=nbr_lyr,\n",
        "                trg_vocab=vocabs[\"trg_vocab\"],\n",
        "                drop_prob=drop_prob,\n",
        "                device=device,\n",
        "                use_answer=use_answer)\n",
        "model = model.to(device)"
      ],
      "execution_count": null,
      "outputs": []
    },
    {
      "cell_type": "code",
      "metadata": {
        "colab": {
          "base_uri": "https://localhost:8080/"
        },
        "id": "z44JVDg5uTKm",
        "outputId": "3e6fb31c-8b6a-45fe-9476-8e59b1362034"
      },
      "source": [
        "padding_idx = vocabs['trg_vocab'].stoi[\"<PAD>\"]\n",
        "criterion = nn.NLLLoss(ignore_index=padding_idx, reduction=\"sum\")\n",
        "optimizer = torch.optim.SGD(model.parameters(), lr)\n",
        "scheduler = torch.optim.lr_scheduler.MultiStepLR(optimizer, milestones=list(range(start_decay_epoch,nbr_epochs + 1)),\n",
        "                                                 gamma=decay_rate)\n",
        "\n",
        "print('Model started training')\n",
        "\n",
        "for epoch in range(nbr_epochs):\n",
        "    \n",
        "    model.train()\n",
        "    loss_ep, nbr_smpl_ep, nbr_crt_ep = 0, 0, 0\n",
        "    \n",
        "    for i, batch in enumerate(train_dataloader):\n",
        "        sent, len_sent, quest = batch.src[0].to(device), batch.src[1].to(device), batch.trg[0].to(device)\n",
        "        ans = batch.feat.to(device) if use_answer else None\n",
        "        optimizer.zero_grad()\n",
        "        pred = model(sent, len_sent, quest, ans)\n",
        "        pred = reshape_pred(pred)\n",
        "        loss = criterion(pred.view(-1, pred.size(2)), quest[:, 1:].contiguous().view(-1))\n",
        "        nbr_nn_pad, nbr_crt = crt_pred(pred, quest, padding_idx)\n",
        "        loss_ep += loss\n",
        "        nbr_crt_ep += nbr_crt\n",
        "        nbr_smpl_ep += nbr_nn_pad\n",
        "        loss.backward()\n",
        "        clip_grad_norm_(model.parameters(), 5.)\n",
        "        optimizer.step()\n",
        "    scheduler.step()\n",
        "    loss_ep = loss_ep.cpu().detach().numpy()\n",
        "    loss_ep = compute_loss(loss_ep, nbr_smpl_ep)\n",
        "    accuracy = compute_accuracy(nbr_crt_ep, nbr_smpl_ep)\n",
        "    perplexity = perplex(loss_ep, nbr_smpl_ep)\n",
        "    train_loss_l.append(loss_ep)\n",
        "    train_accuracy_l.append(accuracy)\n",
        "    train_perplexity_l.append(perplexity)\n",
        "    print('Training in epoch {}, loss : {}, accuracy : {}, perplexity :  {}'.format(epoch, loss, accuracy, perplexity))\n",
        "\n",
        "    model.eval()\n",
        "    with torch.no_grad():\n",
        "        loss_ep_val, nbr_smpl_ep_val, nbr_crt_ep_val = 0, 0, 0\n",
        "        for i, batch in enumerate(valid_dataloader):\n",
        "            sent, len_sent, quest = batch.src[0].to(device), batch.src[1].to(device), batch.trg[0].to(device)\n",
        "            ans = batch.feat.to(device) if use_answer else None\n",
        "            pred = model(sent, len_sent, quest,  ans)\n",
        "            pred = reshape_pred(pred)\n",
        "            loss = criterion(pred.view(-1, pred.size(2)), quest[:, 1:].contiguous().view(-1))\n",
        "            nbr_nn_pad, nbr_crt = crt_pred(pred, quest, padding_idx)\n",
        "            loss_ep_val += loss\n",
        "            nbr_crt_ep_val += nbr_crt\n",
        "            nbr_smpl_ep_val += nbr_nn_pad\n",
        "        loss_ep_val = loss_ep_val.cpu().detach().numpy()\n",
        "        loss_ep_val = compute_loss(loss_ep_val, nbr_smpl_ep_val)\n",
        "        accuracy = compute_accuracy(nbr_crt_ep_val, nbr_smpl_ep_val)\n",
        "        perplexity = perplex(loss_ep_val, nbr_smpl_ep_val) \n",
        "        valid_loss_l.append(loss_ep_val)\n",
        "        valid_accuracy_l.append(accuracy)\n",
        "        valid_perplexity_l.append(perplexity)\n",
        "        print('Validation in epoch {}, loss : {}, accuracy : {}, perplexity :  {}'.format(epoch, loss_ep_val, accuracy, perplexity))"
      ],
      "execution_count": null,
      "outputs": [
        {
          "output_type": "stream",
          "text": [
            "Model started training\n",
            "Training in epoch 0, loss : 1075.849853515625, accuracy : 26.53, perplexity :  1.0000035088027988\n",
            "Validation in epoch 0, loss : 4.9, accuracy : 30.33, perplexity :  1.0000480912910015\n",
            "Training in epoch 1, loss : 980.7755126953125, accuracy : 32.74, perplexity :  1.0000029389416527\n",
            "Validation in epoch 1, loss : 4.55, accuracy : 32.86, perplexity :  1.0000446561220893\n",
            "Training in epoch 2, loss : 944.5949096679688, accuracy : 35.18, perplexity :  1.000002708436113\n",
            "Validation in epoch 2, loss : 4.35, accuracy : 33.7, perplexity :  1.0000426931737232\n",
            "Training in epoch 3, loss : 894.9235229492188, accuracy : 37.17, perplexity :  1.0000025227511333\n",
            "Validation in epoch 3, loss : 4.16, accuracy : 35.31, perplexity :  1.000040828376344\n",
            "Training in epoch 4, loss : 838.9612426757812, accuracy : 38.96, perplexity :  1.0000023690808315\n",
            "Validation in epoch 4, loss : 4.04, accuracy : 36.28, perplexity :  1.00003965061137\n",
            "Training in epoch 5, loss : 810.04150390625, accuracy : 40.56, perplexity :  1.0000022410222646\n",
            "Validation in epoch 5, loss : 3.93, accuracy : 37.1, perplexity :  1.0000385709946955\n",
            "Training in epoch 6, loss : 763.1362915039062, accuracy : 41.89, perplexity :  1.000002132172496\n",
            "Validation in epoch 6, loss : 3.87, accuracy : 37.74, perplexity :  1.0000379821133645\n",
            "Training in epoch 7, loss : 712.9322509765625, accuracy : 43.06, perplexity :  1.0000020489344452\n",
            "Validation in epoch 7, loss : 3.87, accuracy : 37.68, perplexity :  1.0000379821133645\n",
            "Training in epoch 8, loss : 595.784912109375, accuracy : 45.94, perplexity :  1.0000018888612905\n",
            "Validation in epoch 8, loss : 3.74, accuracy : 39.54, perplexity :  1.000036706205003\n",
            "Training in epoch 9, loss : 540.0634155273438, accuracy : 47.96, perplexity :  1.000001773608635\n",
            "Validation in epoch 9, loss : 3.66, accuracy : 40.59, perplexity :  1.0000359210314362\n",
            "Training in epoch 10, loss : 521.0225830078125, accuracy : 49.12, perplexity :  1.0000017095793876\n",
            "Validation in epoch 10, loss : 3.62, accuracy : 41.22, perplexity :  1.0000355284448839\n",
            "Training in epoch 11, loss : 487.28912353515625, accuracy : 49.69, perplexity :  1.00000168396769\n",
            "Validation in epoch 11, loss : 3.58, accuracy : 41.74, perplexity :  1.0000351358584856\n",
            "Training in epoch 12, loss : 483.4872131347656, accuracy : 49.96, perplexity :  1.000001664758917\n",
            "Validation in epoch 12, loss : 3.54, accuracy : 42.22, perplexity :  1.0000347432722416\n",
            "Training in epoch 13, loss : 487.9809265136719, accuracy : 50.1, perplexity :  1.0000016583559928\n",
            "Validation in epoch 13, loss : 3.51, accuracy : 42.6, perplexity :  1.0000344488326596\n",
            "Training in epoch 14, loss : 496.8665771484375, accuracy : 50.14, perplexity :  1.0000016583559928\n",
            "Validation in epoch 14, loss : 3.49, accuracy : 42.98, perplexity :  1.000034252539653\n"
          ],
          "name": "stdout"
        }
      ]
    },
    {
      "cell_type": "markdown",
      "metadata": {
        "id": "x18VrfaiEVTL"
      },
      "source": [
        "Let's print some plots"
      ]
    },
    {
      "cell_type": "code",
      "metadata": {
        "id": "2SMqf4GiEVTM",
        "outputId": "463f73e3-6572-4689-e520-49cfcbed0102"
      },
      "source": [
        "plt.figure(figsize=(15,6))\n",
        "plt.plot(np.arange(nbr_epochs), train_loss_l, '-g', label='Train loss')  # solid green\n",
        "plt.grid()\n",
        "plt.legend(loc=\"upper right\")\n",
        "plt.title('Train loss with respect to epochs');\n",
        "plt.xlabel('Epoch')\n",
        "plt.ylabel('Loss');"
      ],
      "execution_count": null,
      "outputs": [
        {
          "output_type": "display_data",
          "data": {
            "image/png": "[encoded data removed]",
            "text/plain": [
              "<Figure size 1080x432 with 1 Axes>"
            ]
          },
          "metadata": {
            "tags": []
          }
        }
      ]
    },
    {
      "cell_type": "code",
      "metadata": {
        "id": "5yelKfgIEVTM",
        "outputId": "fe4dae75-41e1-404c-fb9a-b67ede6d814b"
      },
      "source": [
        "plt.figure(figsize=(15,6))\n",
        "plt.plot(np.arange(nbr_epochs), train_accuracy_l, ':r', label='Train accuracy') \n",
        "plt.grid()\n",
        "plt.legend(loc=\"upper right\")\n",
        "plt.title('Train accuracy with respect to epochs');\n",
        "plt.xlabel('Epoch')\n",
        "plt.ylabel('Accuracy');"
      ],
      "execution_count": null,
      "outputs": [
        {
          "output_type": "display_data",
          "data": {
            "image/png": "[encoded data removed]",
            "text/plain": [
              "<Figure size 1080x432 with 1 Axes>"
            ]
          },
          "metadata": {
            "tags": []
          }
        }
      ]
    },
    {
      "cell_type": "code",
      "metadata": {
        "scrolled": true,
        "id": "YvgeFmmKEVTN",
        "outputId": "49067d18-dcb7-4c69-853e-845084b6dbfc"
      },
      "source": [
        "plt.figure(figsize=(15,6))\n",
        "plt.plot(np.arange(nbr_epochs), train_perplexity_l, '-b', label='Train perplexity') \n",
        "plt.grid()\n",
        "plt.legend(loc=\"upper right\")\n",
        "plt.title('Train perplexity with respect to epochs');\n",
        "plt.xlabel('Epoch')\n",
        "plt.ylabel('perplexity');"
      ],
      "execution_count": null,
      "outputs": [
        {
          "output_type": "display_data",
          "data": {
            "image/png": "[encoded data removed]",
            "text/plain": [
              "<Figure size 1080x432 with 1 Axes>"
            ]
          },
          "metadata": {
            "tags": []
          }
        }
      ]
    },
    {
      "cell_type": "code",
      "metadata": {
        "id": "T70QVlZaEVTO",
        "outputId": "b1278829-1310-4f88-95f2-042b11cafa1a"
      },
      "source": [
        "plt.figure(figsize=(15,6))\n",
        "plt.plot(np.arange(nbr_epochs), valid_accuracy_l, '--m', label='Valid accuracy') \n",
        "plt.grid()\n",
        "plt.legend(loc=\"upper right\")\n",
        "plt.title('Valid accuracy with respect to epochs');\n",
        "plt.xlabel('Epoch')\n",
        "plt.ylabel('Accuracy');"
      ],
      "execution_count": null,
      "outputs": [
        {
          "output_type": "display_data",
          "data": {
            "image/png": "[encoded data removed]",
            "text/plain": [
              "<Figure size 1080x432 with 1 Axes>"
            ]
          },
          "metadata": {
            "tags": []
          }
        }
      ]
    },
    {
      "cell_type": "code",
      "metadata": {
        "id": "JsWmUyIuEVTP",
        "outputId": "07aed8d8-284d-4a24-d709-73d238326e5f"
      },
      "source": [
        "plt.figure(figsize=(15,6))\n",
        "plt.plot(np.arange(nbr_epochs), valid_loss_l, '-.k', label='Valid loss') \n",
        "plt.grid()\n",
        "plt.legend(loc=\"upper right\")\n",
        "plt.title('Valid loss with respect to epochs');\n",
        "plt.xlabel('Epoch')\n",
        "plt.ylabel('Loss');"
      ],
      "execution_count": null,
      "outputs": [
        {
          "output_type": "display_data",
          "data": {
            "image/png": "[encoded data removed]",
            "text/plain": [
              "<Figure size 1080x432 with 1 Axes>"
            ]
          },
          "metadata": {
            "tags": []
          }
        }
      ]
    },
    {
      "cell_type": "code",
      "metadata": {
        "id": "RE0C-cM1EVTQ",
        "outputId": "5da57617-70af-449d-e3c4-12e7cf4c59cb"
      },
      "source": [
        "plt.figure(figsize=(15,6))\n",
        "plt.plot(np.arange(nbr_epochs), valid_perplexity_l, '-.y', label='Valid perplexity') \n",
        "plt.grid()\n",
        "plt.legend(loc=\"upper right\")\n",
        "plt.title('Valid perplexity with respect to epochs');\n",
        "plt.xlabel('Epoch')\n",
        "plt.ylabel('Perplexity');"
      ],
      "execution_count": null,
      "outputs": [
        {
          "output_type": "display_data",
          "data": {
            "image/png": "[encoded data removed]",
            "text/plain": [
              "<Figure size 1080x432 with 1 Axes>"
            ]
          },
          "metadata": {
            "tags": []
          }
        }
      ]
    },
    {
      "cell_type": "markdown",
      "metadata": {
        "id": "zmgrvZaIEVTQ"
      },
      "source": [
        "We can see that our model is able to learn and it is improving but in our experiments the accuracy (with all other metrics) caps at nearly 52 percent and learning won't improve for epochs above 15 which might prove that the model isn't able to understand the questions structure above a certain level."
      ]
    },
    {
      "cell_type": "markdown",
      "metadata": {
        "id": "cwNNa-cjEVTR"
      },
      "source": [
        "Now let's generate some questions and see how it goes "
      ]
    },
    {
      "cell_type": "code",
      "metadata": {
        "id": "VvpB72f1k0S2",
        "outputId": "dc6b17b2-424e-44ce-af98-87c4a60c17b4"
      },
      "source": [
        "batch_size_val = 1\n",
        "ext = \"context\"\n",
        "test_dataset = preprocessor.generate_data(os.path.join(to_dir, \"dev\"), ext,\n",
        "                                \"question\", max_len=max_len_context)\n",
        "\n",
        "test_dataloader = data.BucketIterator(test_dataset,\n",
        "                                      batch_size=batch_size_val,\n",
        "                                      sort_key=lambda x: len(x.sentence),\n",
        "                                      shuffle=False)"
      ],
      "execution_count": null,
      "outputs": [
        {
          "output_type": "stream",
          "text": [
            "9091it [00:09, 909.29it/s] \n"
          ],
          "name": "stderr"
        }
      ]
    },
    {
      "cell_type": "code",
      "metadata": {
        "id": "pREMvAs7EVTS",
        "outputId": "db3740e2-963c-4db4-b102-1098063ec913"
      },
      "source": [
        "model.eval()\n",
        "with torch.no_grad():\n",
        "    for i, batch in enumerate(test_dataloader):\n",
        "        sent, len_sen = batch.src[0].to(device), batch.src[1].to(device)\n",
        "        ans = batch.feat.to(device) if use_answer else None\n",
        "        pred = model(sent, len_sent, None, ans)\n",
        "        pred = [vocabs[\"trg_vocab\"].itos[i] for i in pred if vocabs[\"trg_vocab\"].itos[i]]\n",
        "        print(\" \".join(pred[1:]))\n",
        "        if i >19:\n",
        "            break"
      ],
      "execution_count": null,
      "outputs": [
        {
          "output_type": "stream",
          "text": [
            "have broad defined that not fit into the discussion ?\n",
            "do some definitions that not have varying into time into into ?\n",
            "do some aspect classes have ?\n",
            "is a growing sport in southern California ?\n",
            "does the trophy rank in southern California ?\n",
            "sport does Brazil hold ?\n",
            "city is popular for its tourist destinations ?\n",
            "tourist destinations for its popular for its popular ?\n",
            "rain and tourists restaurants are popular tourist destinations for its popular tourist attraction and what region\n",
            "is <unk> popular popular popular for ?\n",
            "district district of California <unk> ?\n",
            "with <unk> Mountain , who is San Bernardino ?\n",
            "neighborhoods is in San <unk> ?\n",
            "can be defined by what ?\n",
            "a time by can be defined by what by ?\n",
            "can be defined by <unk> the time ?\n",
            "sport is popular in southern California ?\n",
            "<unk> <unk> does a Study <unk> compete in ?\n",
            "is the name of the MBA <unk> in the <unk> Conference ?\n",
            "what spring are the LGBT <unk> and <unk> <unk> field field ?\n",
            "what division is the <unk> <unk> field field ?\n"
          ],
          "name": "stdout"
        }
      ]
    },
    {
      "cell_type": "markdown",
      "metadata": {
        "id": "maNDJSvvEVTT"
      },
      "source": [
        "From the results above, it is apparent that the model can to some extent generate a question albeit with lots of mistakes and sometimes require an interpretation to be understood. The most apparent mistake is the absence of the  ? mark at the end. Some questions don't have the WH word when it should be, instead they have a reversed form which prompts us to say that the model can't differenciate between WH questions and reversed form ones. The model clearly needs further tweaks for it to be able to generate coherent questions."
      ]
    },
    {
      "cell_type": "markdown",
      "metadata": {
        "id": "dxqPufRVEVTU"
      },
      "source": [
        "Let's try to generate an MCQ style question by using a KNN classifier and try to generate the nearest answers to the true one."
      ]
    },
    {
      "cell_type": "code",
      "metadata": {
        "id": "T2FGm9RVEVTU"
      },
      "source": [
        "def mcq(ans, vocab, sent, knn, alt=4):\n",
        "    cont = [vocab['src_vocab'].itos[i] for i in sent[0]]\n",
        "    mask =  [vocab[\"src_feat_vocab\"].itos[i] for i in  ans[0]]\n",
        "    idx = [vocab['src_vocab'].stoi[cont[i]] for i in range(len(cont)) if mask[i]=='1']\n",
        "    nghbrs = [[] for _ in range(alt)]\n",
        "    for id in idx:\n",
        "        nghbr = knn.kneighbors(vocab['src_vocab'].vectors[id].reshape(1, -1), return_distance=False)[0]\n",
        "        for i in range(alt):\n",
        "            nghbrs[i].append(nghbr[i])\n",
        "    worded = [[vocab['src_vocab'].itos[i] for i in sgt] for sgt in nghbrs]\n",
        "    shuffle(worded)\n",
        "    for i in range(alt):\n",
        "        print(f'{i+1})')\n",
        "        print(*worded[i], sep = \" \")"
      ],
      "execution_count": null,
      "outputs": []
    },
    {
      "cell_type": "code",
      "metadata": {
        "id": "sqFaxWquEVTV"
      },
      "source": [
        "n_alt = 4\n",
        "knn = NearestNeighbors(n_neighbors=n_alt)\n",
        "knn.fit(vocabs['src_vocab'].vectors);"
      ],
      "execution_count": null,
      "outputs": []
    },
    {
      "cell_type": "code",
      "metadata": {
        "id": "v0o-3RUQEVTV",
        "outputId": "b516c63e-e2a8-4288-a142-f9b1b9cf008e"
      },
      "source": [
        "model.eval()\n",
        "with torch.no_grad():\n",
        "    for i, batch in enumerate(test_dataloader):\n",
        "        sent, len_sen = batch.src[0].to(device), batch.src[1].to(device)\n",
        "        ans = batch.feat.to(device) if use_answer else None\n",
        "        pred = model(sent, len_sent, None, ans)\n",
        "        pred = [vocabs[\"trg_vocab\"].itos[i] for i in pred if vocabs[\"trg_vocab\"].itos[i]]\n",
        "        print(\"Question : \")\n",
        "        print(\" \".join(pred[1:]))\n",
        "        mcq(ans, vocabs, sent, knn, n_alt)\n",
        "        print('\\n')\n",
        "        if i > 4:\n",
        "            break"
      ],
      "execution_count": null,
      "outputs": [
        {
          "output_type": "stream",
          "text": [
            "Question : \n",
            "have differences adherence that not fit into the understanding of a simple educational ?\n",
            "1)\n",
            "and few richness\n",
            "2)\n",
            ", some complexity\n",
            "3)\n",
            ". many sophistication\n",
            "4)\n",
            "but those subtlety\n",
            "\n",
            "\n",
            "Question : \n",
            "dimensions colleges have varying binary into what ?\n",
            "1)\n",
            "it\n",
            "2)\n",
            "that\n",
            "3)\n",
            "same\n",
            "4)\n",
            "this\n",
            "\n",
            "\n",
            "Question : \n",
            "type of ways have some degrees that not fit into the discussion parallel ?\n",
            "1)\n",
            "difficult\n",
            "2)\n",
            "problematic\n",
            "3)\n",
            "involve\n",
            "4)\n",
            "complicated\n",
            "\n",
            "\n",
            "Question : \n",
            "sport is in southern California ?\n",
            "1)\n",
            "Magna\n",
            "2)\n",
            "Stafford\n",
            "3)\n",
            "Literature\n",
            "4)\n",
            "Stein\n",
            "\n",
            "\n",
            "Question : \n",
            "what level level is the secondary school wrestling in southern sports ?\n",
            "1)\n",
            "same higher\n",
            "2)\n",
            "which low\n",
            "3)\n",
            "of well\n",
            "4)\n",
            "the high\n",
            "\n",
            "\n",
            "Question : \n",
            "is a growing sport for high school football basketball ?\n",
            "1)\n",
            "an official school\n",
            "2)\n",
            "this according students\n",
            "3)\n",
            "another officials schools\n",
            "4)\n",
            "which saying elementary\n",
            "\n",
            "\n"
          ],
          "name": "stdout"
        }
      ]
    },
    {
      "cell_type": "markdown",
      "metadata": {
        "id": "KFWctZtPEVTX"
      },
      "source": [
        "We can see that this fails horribly as the questions are either bad or the answers aren't meaningful. Generating a question is different from the task of generating a question with multiple questions as the answers in the latter must be similar. We can conclude that this method is obselete. One might opt for a multi task model where the model learns the question and the answer thus it can generate the question and the answers without being divided into two parts."
      ]
    },
    {
      "cell_type": "markdown",
      "metadata": {
        "id": "ZPqyBlS5EVTX"
      },
      "source": [
        "<div class=\"alert alert-info\">\n",
        "    <h3> Part 4 : Fine-tuned BERT for question answering </h3>\n",
        "</div>"
      ]
    },
    {
      "cell_type": "markdown",
      "metadata": {
        "id": "6IJ0nm2yEVTY"
      },
      "source": [
        "We will see here how a fine tuned model can help us generate better answers than the ones we generated."
      ]
    },
    {
      "cell_type": "markdown",
      "metadata": {
        "id": "tLHaGYkqEVTY"
      },
      "source": [
        "<div class=\"alert alert-info\">\n",
        "    <h3> Part 4.1 : Importing model and Tokenizer </h3>\n",
        "</div>"
      ]
    },
    {
      "cell_type": "code",
      "metadata": {
        "id": "VnRQaEz1EVTZ"
      },
      "source": [
        "#!pip install git+https://github.com/huggingface/transformers"
      ],
      "execution_count": null,
      "outputs": []
    },
    {
      "cell_type": "code",
      "metadata": {
        "id": "D46w55rHEVTZ"
      },
      "source": [
        "#We start here by importing the pretrained bert model\n",
        "# It was trained on version 1 of SQuAD\n",
        "from transformers import BertForQuestionAnswering\n",
        "\n",
        "model = BertForQuestionAnswering.from_pretrained('bert-large-uncased-whole-word-masking-finetuned-squad')\n"
      ],
      "execution_count": null,
      "outputs": []
    },
    {
      "cell_type": "code",
      "metadata": {
        "id": "O5Yyun72EVTZ"
      },
      "source": [
        "# We also need to import the tokenizer\n",
        "from transformers import BertTokenizer\n",
        "\n",
        "tokenizer = BertTokenizer.from_pretrained('bert-large-uncased-whole-word-masking-finetuned-squad')"
      ],
      "execution_count": null,
      "outputs": []
    },
    {
      "cell_type": "code",
      "metadata": {
        "scrolled": true,
        "id": "LtyXyuULEVTa",
        "outputId": "f39630f9-cd38-4d4b-f56f-42f99f72b821"
      },
      "source": [
        "# A quick look at the structure of the model.\n",
        "model"
      ],
      "execution_count": null,
      "outputs": [
        {
          "output_type": "execute_result",
          "data": {
            "text/plain": [
              "BertForQuestionAnswering(\n",
              "  (bert): BertModel(\n",
              "    (embeddings): BertEmbeddings(\n",
              "      (word_embeddings): Embedding(30522, 1024, padding_idx=0)\n",
              "      (position_embeddings): Embedding(512, 1024)\n",
              "      (token_type_embeddings): Embedding(2, 1024)\n",
              "      (LayerNorm): LayerNorm((1024,), eps=1e-12, elementwise_affine=True)\n",
              "      (dropout): Dropout(p=0.1, inplace=False)\n",
              "    )\n",
              "    (encoder): BertEncoder(\n",
              "      (layer): ModuleList(\n",
              "        (0): BertLayer(\n",
              "          (attention): BertAttention(\n",
              "            (self): BertSelfAttention(\n",
              "              (query): Linear(in_features=1024, out_features=1024, bias=True)\n",
              "              (key): Linear(in_features=1024, out_features=1024, bias=True)\n",
              "              (value): Linear(in_features=1024, out_features=1024, bias=True)\n",
              "              (dropout): Dropout(p=0.1, inplace=False)\n",
              "            )\n",
              "            (output): BertSelfOutput(\n",
              "              (dense): Linear(in_features=1024, out_features=1024, bias=True)\n",
              "              (LayerNorm): LayerNorm((1024,), eps=1e-12, elementwise_affine=True)\n",
              "              (dropout): Dropout(p=0.1, inplace=False)\n",
              "            )\n",
              "          )\n",
              "          (intermediate): BertIntermediate(\n",
              "            (dense): Linear(in_features=1024, out_features=4096, bias=True)\n",
              "          )\n",
              "          (output): BertOutput(\n",
              "            (dense): Linear(in_features=4096, out_features=1024, bias=True)\n",
              "            (LayerNorm): LayerNorm((1024,), eps=1e-12, elementwise_affine=True)\n",
              "            (dropout): Dropout(p=0.1, inplace=False)\n",
              "          )\n",
              "        )\n",
              "        (1): BertLayer(\n",
              "          (attention): BertAttention(\n",
              "            (self): BertSelfAttention(\n",
              "              (query): Linear(in_features=1024, out_features=1024, bias=True)\n",
              "              (key): Linear(in_features=1024, out_features=1024, bias=True)\n",
              "              (value): Linear(in_features=1024, out_features=1024, bias=True)\n",
              "              (dropout): Dropout(p=0.1, inplace=False)\n",
              "            )\n",
              "            (output): BertSelfOutput(\n",
              "              (dense): Linear(in_features=1024, out_features=1024, bias=True)\n",
              "              (LayerNorm): LayerNorm((1024,), eps=1e-12, elementwise_affine=True)\n",
              "              (dropout): Dropout(p=0.1, inplace=False)\n",
              "            )\n",
              "          )\n",
              "          (intermediate): BertIntermediate(\n",
              "            (dense): Linear(in_features=1024, out_features=4096, bias=True)\n",
              "          )\n",
              "          (output): BertOutput(\n",
              "            (dense): Linear(in_features=4096, out_features=1024, bias=True)\n",
              "            (LayerNorm): LayerNorm((1024,), eps=1e-12, elementwise_affine=True)\n",
              "            (dropout): Dropout(p=0.1, inplace=False)\n",
              "          )\n",
              "        )\n",
              "        (2): BertLayer(\n",
              "          (attention): BertAttention(\n",
              "            (self): BertSelfAttention(\n",
              "              (query): Linear(in_features=1024, out_features=1024, bias=True)\n",
              "              (key): Linear(in_features=1024, out_features=1024, bias=True)\n",
              "              (value): Linear(in_features=1024, out_features=1024, bias=True)\n",
              "              (dropout): Dropout(p=0.1, inplace=False)\n",
              "            )\n",
              "            (output): BertSelfOutput(\n",
              "              (dense): Linear(in_features=1024, out_features=1024, bias=True)\n",
              "              (LayerNorm): LayerNorm((1024,), eps=1e-12, elementwise_affine=True)\n",
              "              (dropout): Dropout(p=0.1, inplace=False)\n",
              "            )\n",
              "          )\n",
              "          (intermediate): BertIntermediate(\n",
              "            (dense): Linear(in_features=1024, out_features=4096, bias=True)\n",
              "          )\n",
              "          (output): BertOutput(\n",
              "            (dense): Linear(in_features=4096, out_features=1024, bias=True)\n",
              "            (LayerNorm): LayerNorm((1024,), eps=1e-12, elementwise_affine=True)\n",
              "            (dropout): Dropout(p=0.1, inplace=False)\n",
              "          )\n",
              "        )\n",
              "        (3): BertLayer(\n",
              "          (attention): BertAttention(\n",
              "            (self): BertSelfAttention(\n",
              "              (query): Linear(in_features=1024, out_features=1024, bias=True)\n",
              "              (key): Linear(in_features=1024, out_features=1024, bias=True)\n",
              "              (value): Linear(in_features=1024, out_features=1024, bias=True)\n",
              "              (dropout): Dropout(p=0.1, inplace=False)\n",
              "            )\n",
              "            (output): BertSelfOutput(\n",
              "              (dense): Linear(in_features=1024, out_features=1024, bias=True)\n",
              "              (LayerNorm): LayerNorm((1024,), eps=1e-12, elementwise_affine=True)\n",
              "              (dropout): Dropout(p=0.1, inplace=False)\n",
              "            )\n",
              "          )\n",
              "          (intermediate): BertIntermediate(\n",
              "            (dense): Linear(in_features=1024, out_features=4096, bias=True)\n",
              "          )\n",
              "          (output): BertOutput(\n",
              "            (dense): Linear(in_features=4096, out_features=1024, bias=True)\n",
              "            (LayerNorm): LayerNorm((1024,), eps=1e-12, elementwise_affine=True)\n",
              "            (dropout): Dropout(p=0.1, inplace=False)\n",
              "          )\n",
              "        )\n",
              "        (4): BertLayer(\n",
              "          (attention): BertAttention(\n",
              "            (self): BertSelfAttention(\n",
              "              (query): Linear(in_features=1024, out_features=1024, bias=True)\n",
              "              (key): Linear(in_features=1024, out_features=1024, bias=True)\n",
              "              (value): Linear(in_features=1024, out_features=1024, bias=True)\n",
              "              (dropout): Dropout(p=0.1, inplace=False)\n",
              "            )\n",
              "            (output): BertSelfOutput(\n",
              "              (dense): Linear(in_features=1024, out_features=1024, bias=True)\n",
              "              (LayerNorm): LayerNorm((1024,), eps=1e-12, elementwise_affine=True)\n",
              "              (dropout): Dropout(p=0.1, inplace=False)\n",
              "            )\n",
              "          )\n",
              "          (intermediate): BertIntermediate(\n",
              "            (dense): Linear(in_features=1024, out_features=4096, bias=True)\n",
              "          )\n",
              "          (output): BertOutput(\n",
              "            (dense): Linear(in_features=4096, out_features=1024, bias=True)\n",
              "            (LayerNorm): LayerNorm((1024,), eps=1e-12, elementwise_affine=True)\n",
              "            (dropout): Dropout(p=0.1, inplace=False)\n",
              "          )\n",
              "        )\n",
              "        (5): BertLayer(\n",
              "          (attention): BertAttention(\n",
              "            (self): BertSelfAttention(\n",
              "              (query): Linear(in_features=1024, out_features=1024, bias=True)\n",
              "              (key): Linear(in_features=1024, out_features=1024, bias=True)\n",
              "              (value): Linear(in_features=1024, out_features=1024, bias=True)\n",
              "              (dropout): Dropout(p=0.1, inplace=False)\n",
              "            )\n",
              "            (output): BertSelfOutput(\n",
              "              (dense): Linear(in_features=1024, out_features=1024, bias=True)\n",
              "              (LayerNorm): LayerNorm((1024,), eps=1e-12, elementwise_affine=True)\n",
              "              (dropout): Dropout(p=0.1, inplace=False)\n",
              "            )\n",
              "          )\n",
              "          (intermediate): BertIntermediate(\n",
              "            (dense): Linear(in_features=1024, out_features=4096, bias=True)\n",
              "          )\n",
              "          (output): BertOutput(\n",
              "            (dense): Linear(in_features=4096, out_features=1024, bias=True)\n",
              "            (LayerNorm): LayerNorm((1024,), eps=1e-12, elementwise_affine=True)\n",
              "            (dropout): Dropout(p=0.1, inplace=False)\n",
              "          )\n",
              "        )\n",
              "        (6): BertLayer(\n",
              "          (attention): BertAttention(\n",
              "            (self): BertSelfAttention(\n",
              "              (query): Linear(in_features=1024, out_features=1024, bias=True)\n",
              "              (key): Linear(in_features=1024, out_features=1024, bias=True)\n",
              "              (value): Linear(in_features=1024, out_features=1024, bias=True)\n",
              "              (dropout): Dropout(p=0.1, inplace=False)\n",
              "            )\n",
              "            (output): BertSelfOutput(\n",
              "              (dense): Linear(in_features=1024, out_features=1024, bias=True)\n",
              "              (LayerNorm): LayerNorm((1024,), eps=1e-12, elementwise_affine=True)\n",
              "              (dropout): Dropout(p=0.1, inplace=False)\n",
              "            )\n",
              "          )\n",
              "          (intermediate): BertIntermediate(\n",
              "            (dense): Linear(in_features=1024, out_features=4096, bias=True)\n",
              "          )\n",
              "          (output): BertOutput(\n",
              "            (dense): Linear(in_features=4096, out_features=1024, bias=True)\n",
              "            (LayerNorm): LayerNorm((1024,), eps=1e-12, elementwise_affine=True)\n",
              "            (dropout): Dropout(p=0.1, inplace=False)\n",
              "          )\n",
              "        )\n",
              "        (7): BertLayer(\n",
              "          (attention): BertAttention(\n",
              "            (self): BertSelfAttention(\n",
              "              (query): Linear(in_features=1024, out_features=1024, bias=True)\n",
              "              (key): Linear(in_features=1024, out_features=1024, bias=True)\n",
              "              (value): Linear(in_features=1024, out_features=1024, bias=True)\n",
              "              (dropout): Dropout(p=0.1, inplace=False)\n",
              "            )\n",
              "            (output): BertSelfOutput(\n",
              "              (dense): Linear(in_features=1024, out_features=1024, bias=True)\n",
              "              (LayerNorm): LayerNorm((1024,), eps=1e-12, elementwise_affine=True)\n",
              "              (dropout): Dropout(p=0.1, inplace=False)\n",
              "            )\n",
              "          )\n",
              "          (intermediate): BertIntermediate(\n",
              "            (dense): Linear(in_features=1024, out_features=4096, bias=True)\n",
              "          )\n",
              "          (output): BertOutput(\n",
              "            (dense): Linear(in_features=4096, out_features=1024, bias=True)\n",
              "            (LayerNorm): LayerNorm((1024,), eps=1e-12, elementwise_affine=True)\n",
              "            (dropout): Dropout(p=0.1, inplace=False)\n",
              "          )\n",
              "        )\n",
              "        (8): BertLayer(\n",
              "          (attention): BertAttention(\n",
              "            (self): BertSelfAttention(\n",
              "              (query): Linear(in_features=1024, out_features=1024, bias=True)\n",
              "              (key): Linear(in_features=1024, out_features=1024, bias=True)\n",
              "              (value): Linear(in_features=1024, out_features=1024, bias=True)\n",
              "              (dropout): Dropout(p=0.1, inplace=False)\n",
              "            )\n",
              "            (output): BertSelfOutput(\n",
              "              (dense): Linear(in_features=1024, out_features=1024, bias=True)\n",
              "              (LayerNorm): LayerNorm((1024,), eps=1e-12, elementwise_affine=True)\n",
              "              (dropout): Dropout(p=0.1, inplace=False)\n",
              "            )\n",
              "          )\n",
              "          (intermediate): BertIntermediate(\n",
              "            (dense): Linear(in_features=1024, out_features=4096, bias=True)\n",
              "          )\n",
              "          (output): BertOutput(\n",
              "            (dense): Linear(in_features=4096, out_features=1024, bias=True)\n",
              "            (LayerNorm): LayerNorm((1024,), eps=1e-12, elementwise_affine=True)\n",
              "            (dropout): Dropout(p=0.1, inplace=False)\n",
              "          )\n",
              "        )\n",
              "        (9): BertLayer(\n",
              "          (attention): BertAttention(\n",
              "            (self): BertSelfAttention(\n",
              "              (query): Linear(in_features=1024, out_features=1024, bias=True)\n",
              "              (key): Linear(in_features=1024, out_features=1024, bias=True)\n",
              "              (value): Linear(in_features=1024, out_features=1024, bias=True)\n",
              "              (dropout): Dropout(p=0.1, inplace=False)\n",
              "            )\n",
              "            (output): BertSelfOutput(\n",
              "              (dense): Linear(in_features=1024, out_features=1024, bias=True)\n",
              "              (LayerNorm): LayerNorm((1024,), eps=1e-12, elementwise_affine=True)\n",
              "              (dropout): Dropout(p=0.1, inplace=False)\n",
              "            )\n",
              "          )\n",
              "          (intermediate): BertIntermediate(\n",
              "            (dense): Linear(in_features=1024, out_features=4096, bias=True)\n",
              "          )\n",
              "          (output): BertOutput(\n",
              "            (dense): Linear(in_features=4096, out_features=1024, bias=True)\n",
              "            (LayerNorm): LayerNorm((1024,), eps=1e-12, elementwise_affine=True)\n",
              "            (dropout): Dropout(p=0.1, inplace=False)\n",
              "          )\n",
              "        )\n",
              "        (10): BertLayer(\n",
              "          (attention): BertAttention(\n",
              "            (self): BertSelfAttention(\n",
              "              (query): Linear(in_features=1024, out_features=1024, bias=True)\n",
              "              (key): Linear(in_features=1024, out_features=1024, bias=True)\n",
              "              (value): Linear(in_features=1024, out_features=1024, bias=True)\n",
              "              (dropout): Dropout(p=0.1, inplace=False)\n",
              "            )\n",
              "            (output): BertSelfOutput(\n",
              "              (dense): Linear(in_features=1024, out_features=1024, bias=True)\n",
              "              (LayerNorm): LayerNorm((1024,), eps=1e-12, elementwise_affine=True)\n",
              "              (dropout): Dropout(p=0.1, inplace=False)\n",
              "            )\n",
              "          )\n",
              "          (intermediate): BertIntermediate(\n",
              "            (dense): Linear(in_features=1024, out_features=4096, bias=True)\n",
              "          )\n",
              "          (output): BertOutput(\n",
              "            (dense): Linear(in_features=4096, out_features=1024, bias=True)\n",
              "            (LayerNorm): LayerNorm((1024,), eps=1e-12, elementwise_affine=True)\n",
              "            (dropout): Dropout(p=0.1, inplace=False)\n",
              "          )\n",
              "        )\n",
              "        (11): BertLayer(\n",
              "          (attention): BertAttention(\n",
              "            (self): BertSelfAttention(\n",
              "              (query): Linear(in_features=1024, out_features=1024, bias=True)\n",
              "              (key): Linear(in_features=1024, out_features=1024, bias=True)\n",
              "              (value): Linear(in_features=1024, out_features=1024, bias=True)\n",
              "              (dropout): Dropout(p=0.1, inplace=False)\n",
              "            )\n",
              "            (output): BertSelfOutput(\n",
              "              (dense): Linear(in_features=1024, out_features=1024, bias=True)\n",
              "              (LayerNorm): LayerNorm((1024,), eps=1e-12, elementwise_affine=True)\n",
              "              (dropout): Dropout(p=0.1, inplace=False)\n",
              "            )\n",
              "          )\n",
              "          (intermediate): BertIntermediate(\n",
              "            (dense): Linear(in_features=1024, out_features=4096, bias=True)\n",
              "          )\n",
              "          (output): BertOutput(\n",
              "            (dense): Linear(in_features=4096, out_features=1024, bias=True)\n",
              "            (LayerNorm): LayerNorm((1024,), eps=1e-12, elementwise_affine=True)\n",
              "            (dropout): Dropout(p=0.1, inplace=False)\n",
              "          )\n",
              "        )\n",
              "        (12): BertLayer(\n",
              "          (attention): BertAttention(\n",
              "            (self): BertSelfAttention(\n",
              "              (query): Linear(in_features=1024, out_features=1024, bias=True)\n",
              "              (key): Linear(in_features=1024, out_features=1024, bias=True)\n",
              "              (value): Linear(in_features=1024, out_features=1024, bias=True)\n",
              "              (dropout): Dropout(p=0.1, inplace=False)\n",
              "            )\n",
              "            (output): BertSelfOutput(\n",
              "              (dense): Linear(in_features=1024, out_features=1024, bias=True)\n",
              "              (LayerNorm): LayerNorm((1024,), eps=1e-12, elementwise_affine=True)\n",
              "              (dropout): Dropout(p=0.1, inplace=False)\n",
              "            )\n",
              "          )\n",
              "          (intermediate): BertIntermediate(\n",
              "            (dense): Linear(in_features=1024, out_features=4096, bias=True)\n",
              "          )\n",
              "          (output): BertOutput(\n",
              "            (dense): Linear(in_features=4096, out_features=1024, bias=True)\n",
              "            (LayerNorm): LayerNorm((1024,), eps=1e-12, elementwise_affine=True)\n",
              "            (dropout): Dropout(p=0.1, inplace=False)\n",
              "          )\n",
              "        )\n",
              "        (13): BertLayer(\n",
              "          (attention): BertAttention(\n",
              "            (self): BertSelfAttention(\n",
              "              (query): Linear(in_features=1024, out_features=1024, bias=True)\n",
              "              (key): Linear(in_features=1024, out_features=1024, bias=True)\n",
              "              (value): Linear(in_features=1024, out_features=1024, bias=True)\n",
              "              (dropout): Dropout(p=0.1, inplace=False)\n",
              "            )\n",
              "            (output): BertSelfOutput(\n",
              "              (dense): Linear(in_features=1024, out_features=1024, bias=True)\n",
              "              (LayerNorm): LayerNorm((1024,), eps=1e-12, elementwise_affine=True)\n",
              "              (dropout): Dropout(p=0.1, inplace=False)\n",
              "            )\n",
              "          )\n",
              "          (intermediate): BertIntermediate(\n",
              "            (dense): Linear(in_features=1024, out_features=4096, bias=True)\n",
              "          )\n",
              "          (output): BertOutput(\n",
              "            (dense): Linear(in_features=4096, out_features=1024, bias=True)\n",
              "            (LayerNorm): LayerNorm((1024,), eps=1e-12, elementwise_affine=True)\n",
              "            (dropout): Dropout(p=0.1, inplace=False)\n",
              "          )\n",
              "        )\n",
              "        (14): BertLayer(\n",
              "          (attention): BertAttention(\n",
              "            (self): BertSelfAttention(\n",
              "              (query): Linear(in_features=1024, out_features=1024, bias=True)\n",
              "              (key): Linear(in_features=1024, out_features=1024, bias=True)\n",
              "              (value): Linear(in_features=1024, out_features=1024, bias=True)\n",
              "              (dropout): Dropout(p=0.1, inplace=False)\n",
              "            )\n",
              "            (output): BertSelfOutput(\n",
              "              (dense): Linear(in_features=1024, out_features=1024, bias=True)\n",
              "              (LayerNorm): LayerNorm((1024,), eps=1e-12, elementwise_affine=True)\n",
              "              (dropout): Dropout(p=0.1, inplace=False)\n",
              "            )\n",
              "          )\n",
              "          (intermediate): BertIntermediate(\n",
              "            (dense): Linear(in_features=1024, out_features=4096, bias=True)\n",
              "          )\n",
              "          (output): BertOutput(\n",
              "            (dense): Linear(in_features=4096, out_features=1024, bias=True)\n",
              "            (LayerNorm): LayerNorm((1024,), eps=1e-12, elementwise_affine=True)\n",
              "            (dropout): Dropout(p=0.1, inplace=False)\n",
              "          )\n",
              "        )\n",
              "        (15): BertLayer(\n",
              "          (attention): BertAttention(\n",
              "            (self): BertSelfAttention(\n",
              "              (query): Linear(in_features=1024, out_features=1024, bias=True)\n",
              "              (key): Linear(in_features=1024, out_features=1024, bias=True)\n",
              "              (value): Linear(in_features=1024, out_features=1024, bias=True)\n",
              "              (dropout): Dropout(p=0.1, inplace=False)\n",
              "            )\n",
              "            (output): BertSelfOutput(\n",
              "              (dense): Linear(in_features=1024, out_features=1024, bias=True)\n",
              "              (LayerNorm): LayerNorm((1024,), eps=1e-12, elementwise_affine=True)\n",
              "              (dropout): Dropout(p=0.1, inplace=False)\n",
              "            )\n",
              "          )\n",
              "          (intermediate): BertIntermediate(\n",
              "            (dense): Linear(in_features=1024, out_features=4096, bias=True)\n",
              "          )\n",
              "          (output): BertOutput(\n",
              "            (dense): Linear(in_features=4096, out_features=1024, bias=True)\n",
              "            (LayerNorm): LayerNorm((1024,), eps=1e-12, elementwise_affine=True)\n",
              "            (dropout): Dropout(p=0.1, inplace=False)\n",
              "          )\n",
              "        )\n",
              "        (16): BertLayer(\n",
              "          (attention): BertAttention(\n",
              "            (self): BertSelfAttention(\n",
              "              (query): Linear(in_features=1024, out_features=1024, bias=True)\n",
              "              (key): Linear(in_features=1024, out_features=1024, bias=True)\n",
              "              (value): Linear(in_features=1024, out_features=1024, bias=True)\n",
              "              (dropout): Dropout(p=0.1, inplace=False)\n",
              "            )\n",
              "            (output): BertSelfOutput(\n",
              "              (dense): Linear(in_features=1024, out_features=1024, bias=True)\n",
              "              (LayerNorm): LayerNorm((1024,), eps=1e-12, elementwise_affine=True)\n",
              "              (dropout): Dropout(p=0.1, inplace=False)\n",
              "            )\n",
              "          )\n",
              "          (intermediate): BertIntermediate(\n",
              "            (dense): Linear(in_features=1024, out_features=4096, bias=True)\n",
              "          )\n",
              "          (output): BertOutput(\n",
              "            (dense): Linear(in_features=4096, out_features=1024, bias=True)\n",
              "            (LayerNorm): LayerNorm((1024,), eps=1e-12, elementwise_affine=True)\n",
              "            (dropout): Dropout(p=0.1, inplace=False)\n",
              "          )\n",
              "        )\n",
              "        (17): BertLayer(\n",
              "          (attention): BertAttention(\n",
              "            (self): BertSelfAttention(\n",
              "              (query): Linear(in_features=1024, out_features=1024, bias=True)\n",
              "              (key): Linear(in_features=1024, out_features=1024, bias=True)\n",
              "              (value): Linear(in_features=1024, out_features=1024, bias=True)\n",
              "              (dropout): Dropout(p=0.1, inplace=False)\n",
              "            )\n",
              "            (output): BertSelfOutput(\n",
              "              (dense): Linear(in_features=1024, out_features=1024, bias=True)\n",
              "              (LayerNorm): LayerNorm((1024,), eps=1e-12, elementwise_affine=True)\n",
              "              (dropout): Dropout(p=0.1, inplace=False)\n",
              "            )\n",
              "          )\n",
              "          (intermediate): BertIntermediate(\n",
              "            (dense): Linear(in_features=1024, out_features=4096, bias=True)\n",
              "          )\n",
              "          (output): BertOutput(\n",
              "            (dense): Linear(in_features=4096, out_features=1024, bias=True)\n",
              "            (LayerNorm): LayerNorm((1024,), eps=1e-12, elementwise_affine=True)\n",
              "            (dropout): Dropout(p=0.1, inplace=False)\n",
              "          )\n",
              "        )\n",
              "        (18): BertLayer(\n",
              "          (attention): BertAttention(\n",
              "            (self): BertSelfAttention(\n",
              "              (query): Linear(in_features=1024, out_features=1024, bias=True)\n",
              "              (key): Linear(in_features=1024, out_features=1024, bias=True)\n",
              "              (value): Linear(in_features=1024, out_features=1024, bias=True)\n",
              "              (dropout): Dropout(p=0.1, inplace=False)\n",
              "            )\n",
              "            (output): BertSelfOutput(\n",
              "              (dense): Linear(in_features=1024, out_features=1024, bias=True)\n",
              "              (LayerNorm): LayerNorm((1024,), eps=1e-12, elementwise_affine=True)\n",
              "              (dropout): Dropout(p=0.1, inplace=False)\n",
              "            )\n",
              "          )\n",
              "          (intermediate): BertIntermediate(\n",
              "            (dense): Linear(in_features=1024, out_features=4096, bias=True)\n",
              "          )\n",
              "          (output): BertOutput(\n",
              "            (dense): Linear(in_features=4096, out_features=1024, bias=True)\n",
              "            (LayerNorm): LayerNorm((1024,), eps=1e-12, elementwise_affine=True)\n",
              "            (dropout): Dropout(p=0.1, inplace=False)\n",
              "          )\n",
              "        )\n",
              "        (19): BertLayer(\n",
              "          (attention): BertAttention(\n",
              "            (self): BertSelfAttention(\n",
              "              (query): Linear(in_features=1024, out_features=1024, bias=True)\n",
              "              (key): Linear(in_features=1024, out_features=1024, bias=True)\n",
              "              (value): Linear(in_features=1024, out_features=1024, bias=True)\n",
              "              (dropout): Dropout(p=0.1, inplace=False)\n",
              "            )\n",
              "            (output): BertSelfOutput(\n",
              "              (dense): Linear(in_features=1024, out_features=1024, bias=True)\n",
              "              (LayerNorm): LayerNorm((1024,), eps=1e-12, elementwise_affine=True)\n",
              "              (dropout): Dropout(p=0.1, inplace=False)\n",
              "            )\n",
              "          )\n",
              "          (intermediate): BertIntermediate(\n",
              "            (dense): Linear(in_features=1024, out_features=4096, bias=True)\n",
              "          )\n",
              "          (output): BertOutput(\n",
              "            (dense): Linear(in_features=4096, out_features=1024, bias=True)\n",
              "            (LayerNorm): LayerNorm((1024,), eps=1e-12, elementwise_affine=True)\n",
              "            (dropout): Dropout(p=0.1, inplace=False)\n",
              "          )\n",
              "        )\n",
              "        (20): BertLayer(\n",
              "          (attention): BertAttention(\n",
              "            (self): BertSelfAttention(\n",
              "              (query): Linear(in_features=1024, out_features=1024, bias=True)\n",
              "              (key): Linear(in_features=1024, out_features=1024, bias=True)\n",
              "              (value): Linear(in_features=1024, out_features=1024, bias=True)\n",
              "              (dropout): Dropout(p=0.1, inplace=False)\n",
              "            )\n",
              "            (output): BertSelfOutput(\n",
              "              (dense): Linear(in_features=1024, out_features=1024, bias=True)\n",
              "              (LayerNorm): LayerNorm((1024,), eps=1e-12, elementwise_affine=True)\n",
              "              (dropout): Dropout(p=0.1, inplace=False)\n",
              "            )\n",
              "          )\n",
              "          (intermediate): BertIntermediate(\n",
              "            (dense): Linear(in_features=1024, out_features=4096, bias=True)\n",
              "          )\n",
              "          (output): BertOutput(\n",
              "            (dense): Linear(in_features=4096, out_features=1024, bias=True)\n",
              "            (LayerNorm): LayerNorm((1024,), eps=1e-12, elementwise_affine=True)\n",
              "            (dropout): Dropout(p=0.1, inplace=False)\n",
              "          )\n",
              "        )\n",
              "        (21): BertLayer(\n",
              "          (attention): BertAttention(\n",
              "            (self): BertSelfAttention(\n",
              "              (query): Linear(in_features=1024, out_features=1024, bias=True)\n",
              "              (key): Linear(in_features=1024, out_features=1024, bias=True)\n",
              "              (value): Linear(in_features=1024, out_features=1024, bias=True)\n",
              "              (dropout): Dropout(p=0.1, inplace=False)\n",
              "            )\n",
              "            (output): BertSelfOutput(\n",
              "              (dense): Linear(in_features=1024, out_features=1024, bias=True)\n",
              "              (LayerNorm): LayerNorm((1024,), eps=1e-12, elementwise_affine=True)\n",
              "              (dropout): Dropout(p=0.1, inplace=False)\n",
              "            )\n",
              "          )\n",
              "          (intermediate): BertIntermediate(\n",
              "            (dense): Linear(in_features=1024, out_features=4096, bias=True)\n",
              "          )\n",
              "          (output): BertOutput(\n",
              "            (dense): Linear(in_features=4096, out_features=1024, bias=True)\n",
              "            (LayerNorm): LayerNorm((1024,), eps=1e-12, elementwise_affine=True)\n",
              "            (dropout): Dropout(p=0.1, inplace=False)\n",
              "          )\n",
              "        )\n",
              "        (22): BertLayer(\n",
              "          (attention): BertAttention(\n",
              "            (self): BertSelfAttention(\n",
              "              (query): Linear(in_features=1024, out_features=1024, bias=True)\n",
              "              (key): Linear(in_features=1024, out_features=1024, bias=True)\n",
              "              (value): Linear(in_features=1024, out_features=1024, bias=True)\n",
              "              (dropout): Dropout(p=0.1, inplace=False)\n",
              "            )\n",
              "            (output): BertSelfOutput(\n",
              "              (dense): Linear(in_features=1024, out_features=1024, bias=True)\n",
              "              (LayerNorm): LayerNorm((1024,), eps=1e-12, elementwise_affine=True)\n",
              "              (dropout): Dropout(p=0.1, inplace=False)\n",
              "            )\n",
              "          )\n",
              "          (intermediate): BertIntermediate(\n",
              "            (dense): Linear(in_features=1024, out_features=4096, bias=True)\n",
              "          )\n",
              "          (output): BertOutput(\n",
              "            (dense): Linear(in_features=4096, out_features=1024, bias=True)\n",
              "            (LayerNorm): LayerNorm((1024,), eps=1e-12, elementwise_affine=True)\n",
              "            (dropout): Dropout(p=0.1, inplace=False)\n",
              "          )\n",
              "        )\n",
              "        (23): BertLayer(\n",
              "          (attention): BertAttention(\n",
              "            (self): BertSelfAttention(\n",
              "              (query): Linear(in_features=1024, out_features=1024, bias=True)\n",
              "              (key): Linear(in_features=1024, out_features=1024, bias=True)\n",
              "              (value): Linear(in_features=1024, out_features=1024, bias=True)\n",
              "              (dropout): Dropout(p=0.1, inplace=False)\n",
              "            )\n",
              "            (output): BertSelfOutput(\n",
              "              (dense): Linear(in_features=1024, out_features=1024, bias=True)\n",
              "              (LayerNorm): LayerNorm((1024,), eps=1e-12, elementwise_affine=True)\n",
              "              (dropout): Dropout(p=0.1, inplace=False)\n",
              "            )\n",
              "          )\n",
              "          (intermediate): BertIntermediate(\n",
              "            (dense): Linear(in_features=1024, out_features=4096, bias=True)\n",
              "          )\n",
              "          (output): BertOutput(\n",
              "            (dense): Linear(in_features=4096, out_features=1024, bias=True)\n",
              "            (LayerNorm): LayerNorm((1024,), eps=1e-12, elementwise_affine=True)\n",
              "            (dropout): Dropout(p=0.1, inplace=False)\n",
              "          )\n",
              "        )\n",
              "      )\n",
              "    )\n",
              "  )\n",
              "  (qa_outputs): Linear(in_features=1024, out_features=2, bias=True)\n",
              ")"
            ]
          },
          "metadata": {
            "tags": []
          },
          "execution_count": 39
        }
      ]
    },
    {
      "cell_type": "markdown",
      "metadata": {
        "id": "6BuzKQgIEVTb"
      },
      "source": [
        "<div class=\"alert alert-info\">\n",
        "    <h3> Part 4.2 : Importing datasets </h3>\n",
        "</div>"
      ]
    },
    {
      "cell_type": "code",
      "metadata": {
        "id": "BT5doNUZEVTb"
      },
      "source": [
        "#here we use the datasets created before and put them in lists for a better handling \n",
        "data_train = [],[] \n",
        "for i in range(len(train_dataset)):\n",
        "    data_train[0].append(str(train_dataset.examples[i].src))\n",
        "    data_train[1].append(str(train_dataset.examples[i].trg))\n",
        "    \n",
        "data_valid = [],[]\n",
        "for i in range(len(valid_dataset)):\n",
        "    data_valid[0].append(str(valid_dataset.examples[i].src))\n",
        "    data_valid[1].append(str(valid_dataset.examples[i].trg))"
      ],
      "execution_count": null,
      "outputs": []
    },
    {
      "cell_type": "code",
      "metadata": {
        "id": "qJ-H24OLEVTc"
      },
      "source": [
        "# Function to clean the text so that the pre-trained bert can work more efficiently\n",
        "def cleaner(tokens):\n",
        "    tokens = tokens.replace(\"[\",\"\")\n",
        "    tokens2 = tokens.replace(\"]\",\"\")\n",
        "    tokens3 = tokens2.replace(\"'\", \"\")\n",
        "    tokens4 = tokens3.replace(' \"s\"',\"'s\")\n",
        "    tokens5 = tokens4.replace(\",\",\"\")\n",
        "    return tokens5"
      ],
      "execution_count": null,
      "outputs": []
    },
    {
      "cell_type": "code",
      "metadata": {
        "id": "AX7FS7c5EVTc"
      },
      "source": [
        "#  clean datasets\n",
        "clean_train = [], []\n",
        "for i in range(len(data_train[0])):\n",
        "    clean_train[0].append(cleaner(data_train[0][i]))\n",
        "    clean_train[1].append(cleaner(data_train[1][i]))\n",
        "    \n",
        "    \n",
        "    \n",
        "clean_valid = [], []\n",
        "for i in range(len(data_valid[0])):\n",
        "    clean_valid[0].append(cleaner(data_valid[0][i]))\n",
        "    clean_valid[1].append(cleaner(data_valid[1][i]))"
      ],
      "execution_count": null,
      "outputs": []
    },
    {
      "cell_type": "markdown",
      "metadata": {
        "id": "61_KS0NxEVTd"
      },
      "source": [
        "<div class=\"alert alert-info\">\n",
        "    <h3> Part 4.3 : Applying the model on our datasests </h3>\n",
        "</div>"
      ]
    },
    {
      "cell_type": "code",
      "metadata": {
        "id": "EYmYCks6EVTd"
      },
      "source": [
        "#this function is taken from:\n",
        "# https://colab.research.google.com/drive/1uSlWtJdZmLrI3FCNIlUHFxwAJiSu2J0-\n",
        "\n",
        "def answer_question(question, answer_text):\n",
        "    #Tokenizeing the input\n",
        "    \n",
        "    input_ids = tokenizer.encode(question, answer_text)\n",
        "    \n",
        "    # ======== Set Segment IDs ========\n",
        "    # Search the input_ids\n",
        "    sep_index = input_ids.index(tokenizer.sep_token_id)\n",
        "\n",
        "    num_seg_a = sep_index + 1\n",
        "\n",
        "    num_seg_b = len(input_ids) - num_seg_a\n",
        "    \n",
        "    # Construct the list of 0s and 1s.\n",
        "    segment_ids = [0]*num_seg_a + [1]*num_seg_b\n",
        "\n",
        "    assert len(segment_ids) == len(input_ids)\n",
        "\n",
        "    # ======== Evaluate ========\n",
        "    #run the model through the examples\n",
        "    outputs = model(torch.tensor([input_ids]),\n",
        "                    token_type_ids=torch.tensor([segment_ids]), \n",
        "                    return_dict=True) \n",
        "\n",
        "    start_scores = outputs.start_logits\n",
        "    end_scores = outputs.end_logits\n",
        "\n",
        "    # ======== Reconstruct Answer ========\n",
        "    # Find the tokens with the highest `start` and `end` scores.\n",
        "    answer_start = torch.argmax(start_scores)\n",
        "    answer_end = torch.argmax(end_scores)\n",
        "    # Get the string versions of the input tokens.\n",
        "    tokens = tokenizer.convert_ids_to_tokens(input_ids)\n",
        "\n",
        "    answer = tokens[answer_start]\n",
        "    # Select the remaining answer tokens and join them with whitespace.\n",
        "    for i in range(answer_start + 1, answer_end + 1):\n",
        "        \n",
        "        if tokens[i][0:2] == '##':\n",
        "            answer += tokens[i][2:]\n",
        "        \n",
        "        else:\n",
        "            answer += ' ' + tokens[i]\n",
        "    print('Question: \"' + question + '\"')\n",
        "    print('Answer: \"' + answer + '\"'\"\\n\")"
      ],
      "execution_count": null,
      "outputs": []
    },
    {
      "cell_type": "code",
      "metadata": {
        "id": "EFDdTTayEVTf"
      },
      "source": [
        "# Code to apply the function on the whole train dataset\n",
        "for i in range(len(clean_train[0])): \n",
        "    answer_question(clean_train[1][i], clean_train[0][i])"
      ],
      "execution_count": null,
      "outputs": []
    },
    {
      "cell_type": "code",
      "metadata": {
        "id": "3VuteZw-EVTf",
        "outputId": "e3b7b68a-a9e0-4cd6-941e-5de47752e3bc"
      },
      "source": [
        "# Snippet just to see that it works.\n",
        "for i in range(12): \n",
        "    answer_question(clean_train[1][i], clean_train[0][i])"
      ],
      "execution_count": null,
      "outputs": [
        {
          "output_type": "stream",
          "text": [
            "Question: \"What state do Jason Chaffetz represent ?\"\n",
            "Answer: \"utah\"\n",
            "\n",
            "Question: \"What political party is Jared Polis in ?\"\n",
            "Answer: \"d\"\n",
            "\n",
            "Question: \"Who is Json Chaffetz ?\"\n",
            "Answer: \"congressman jason chaffetz ( r\"\n",
            "\n",
            "Question: \"What political party is Jared Polis associated with ?\"\n",
            "Answer: \"d\"\n",
            "\n",
            "Question: \"What area does Jason Chaffetz represent ?\"\n",
            "Answer: \"utah : district 03\"\n",
            "\n",
            "Question: \"What is Chaffetz \"\" party affiliation ?\"\n",
            "Answer: \"r\"\n",
            "\n",
            "Question: \"Who is the republican ?\"\n",
            "Answer: \"jason chaffetz\"\n",
            "\n",
            "Question: \"What is the name of the Republican ?\"\n",
            "Answer: \"jason chaffetz\"\n",
            "\n",
            "Question: \"A preaspirated consonant is marked how ?\"\n",
            "Answer: \"by placing the aspiration modifier letter before the consonant symbol\"\n",
            "\n",
            "Question: \"What represents a preaspirated bilabial stop ?\"\n",
            "Answer: \"⟨ ʰp ⟩\"\n",
            "\n",
            "Question: \"Which brains are easier to work on  vertebrates or invertebrates ?\"\n",
            "Answer: \"invertebrate\"\n",
            "\n",
            "Question: \"In 2011  what sort of Wikipedia addition did the National Archives make ?\"\n",
            "Answer: \"wikiproject\"\n",
            "\n"
          ],
          "name": "stdout"
        }
      ]
    },
    {
      "cell_type": "code",
      "metadata": {
        "id": "-cEiOsEQEVTg"
      },
      "source": [
        "for i in range(len(clean_valid[0])): \n",
        "    answer_question(clean_valid[1][i], clean_valid[0][i])"
      ],
      "execution_count": null,
      "outputs": []
    },
    {
      "cell_type": "code",
      "metadata": {
        "id": "8R3IKSlFEVTg",
        "outputId": "3698922a-2a38-4b07-b12b-fcf055f685db"
      },
      "source": [
        "for i in range(12): \n",
        "    answer_question(clean_valid[1][i], clean_valid[0][i])"
      ],
      "execution_count": null,
      "outputs": [
        {
          "output_type": "stream",
          "text": [
            "Question: \"What has complicated definitions that prevent classification into a framework ?\"\n",
            "Answer: \"complexity classes\"\n",
            "\n",
            "Question: \"Complexity classes are generally classified into what ?\"\n",
            "Answer: \"what ? [SEP] of course some complexity classes have complicated definitions\"\n",
            "\n",
            "Question: \"Difficulty in establishing a framework for complexity classes can be caused by what variable ?\"\n",
            "Answer: \"complicated definitions\"\n",
            "\n",
            "Question: \"What is a growing sport in southern California ?\"\n",
            "Answer: \"rugby\"\n",
            "\n",
            "Question: \"At which level of education is this sport becoming more popular ?\"\n",
            "Answer: \"high school\"\n",
            "\n",
            "Question: \"What is rugby rapidly becoming with high schools ?\"\n",
            "Answer: \"official school sport\"\n",
            "\n",
            "Question: \"What is the name of the desert city ?\"\n",
            "Answer: \"palm springs\"\n",
            "\n",
            "Question: \"Other than the desert city why do many locals and tourists frequent southern California ?\"\n",
            "Answer: \"for its popular beaches\"\n",
            "\n",
            "Question: \"Which region of California is Palm Springs located in ?\"\n",
            "Answer: \"southern\"\n",
            "\n",
            "Question: \"Other than for its resort feel  what is Palm Springs popular for ?\"\n",
            "Answer: \"nearby open spaces\"\n",
            "\n",
            "Question: \"The Sand Bernardino - Riverside area maintains what kind of district ?\"\n",
            "Answer: \"business\"\n",
            "\n",
            "Question: \"Other than San Bernardino  what is the name of the other city that maintains the districts including University Town ?\"\n",
            "Answer: \"riverside\"\n",
            "\n"
          ],
          "name": "stdout"
        }
      ]
    },
    {
      "cell_type": "markdown",
      "metadata": {
        "id": "Ig0xBhBfEVTh"
      },
      "source": [
        "We can see that this model is better at generating answers than our 'medieval' one which we can exploit for the MCQ type questions"
      ]
    },
    {
      "cell_type": "markdown",
      "metadata": {
        "id": "N3m18rU2EVTh"
      },
      "source": [
        "<div class=\"alert alert-info\">\n",
        "    <h2> Part 5 : Conclusion </h2>\n",
        "</div>"
      ]
    },
    {
      "cell_type": "markdown",
      "metadata": {
        "id": "Qw0qnItFEVTi"
      },
      "source": [
        "Throughout this project we have managed to create a model to generate questions to a certain degree for exam generation. There is no doubt that the model needs more work for propre question generation. However, it is still far from a usable tool even for getting insights on potential questions. As for the MCQ questions and the fill in ones, we suspect that a model that generates questions and answers at the same time would be more adequate. This is a valid area of research and ideally our model would have generated something like the tool we find here [pretrained transformers for question generation](https://github.com/amontgomerie/question_generator)."
      ]
    }
  ]
}